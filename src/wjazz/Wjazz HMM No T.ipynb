{
 "cells": [
  {
   "cell_type": "code",
   "execution_count": 1,
   "metadata": {
    "collapsed": false
   },
   "outputs": [
    {
     "name": "stdout",
     "output_type": "stream",
     "text": [
      "Getting data ...\n",
      "Data Loaded.\n",
      "Building HMM model ...\n",
      "Training model ...\n",
      "Testing model ...\n",
      "Accuracy: 0.130663513606\n",
      "Building model ...\n",
      "Training model ...\n",
      "Testing model ...\n",
      "Accuracy: 0.153197614641\n"
     ]
    }
   ],
   "source": [
    "from data_loader_no_t import DataLoader\n",
    "import math\n",
    "import numpy as np\n",
    "from seqlearn import hmm, perceptron\n",
    "import logging\n",
    "import sys\n",
    "\n",
    "logger = logging.getLogger()\n",
    "logger.setLevel(logging.DEBUG)\n",
    "ch = logging.StreamHandler(sys.stdout)\n",
    "ch.setLevel(logging.DEBUG)\n",
    "logger.addHandler(ch)\n",
    "\n",
    "TRAINING_RATIO = 0.5\n",
    "\n",
    "logger.info('Getting data ...')\n",
    "dl = DataLoader()\n",
    "X, Y, L = dl.load()\n",
    "logger.info('Data Loaded.')\n",
    "\n",
    "# Number of songs\n",
    "N = len(L)\n",
    "l_split_point = int(math.ceil(N * TRAINING_RATIO))\n",
    "xy_split_point = np.sum(L[:(l_split_point)])\n",
    "\n",
    "X_train = X[:xy_split_point]\n",
    "Y_train = Y[:xy_split_point]\n",
    "L_train = L[:l_split_point]\n",
    "\n",
    "len_train = np.sum(L_train)\n",
    "len_X_train = len(X_train)\n",
    "len_Y_train = len(Y_train)\n",
    "assert len_train == len_X_train, \"sum of training lengths: {0} not equal to len(X_train): {1}\".format(len_train, len_X_train)\n",
    "assert len_train == len_Y_train, \"sum of training lengths: {0} not equal to len(Y_train): {1}\".format(len_train, len_Y_train)\n",
    "\n",
    "X_test = X[xy_split_point:]\n",
    "Y_test = Y[xy_split_point:]\n",
    "L_test = L[l_split_point:]\n",
    "\n",
    "len_test = np.sum(L_test)\n",
    "len_X_test = len(X_test)\n",
    "len_Y_test = len(Y_test)\n",
    "assert len_test == len_X_test, \"sum of testing lengths: {0} not equal to len(X_test): {1}\".format(len_test, len_X_test)\n",
    "assert len_test == len_Y_test, \"sum of testing lengths: {0} not equal to len(Y_test): {1}\".format(len_test, len_Y_test)\n",
    "\n",
    "logger.info('Building HMM model ...')\n",
    "model = hmm.MultinomialHMM()\n",
    "logger.info('Training model ...')\n",
    "model.fit(X_train, Y_train, L_train)\n",
    "logger.info('Testing model ...')\n",
    "accuracy = model.score(X_test, Y_test, L_test)\n",
    "logger.info(\"Accuracy: {0}\".format(accuracy))\n",
    "# for i in model.predict(X_test):\n",
    "#     print \"{0} \".format(i),\n",
    "\n",
    "logger.info('Building model ...')\n",
    "model = perceptron.StructuredPerceptron()\n",
    "logger.info('Training model ...')\n",
    "model.fit(X_train, Y_train, L_train)\n",
    "logger.info('Testing model ...')\n",
    "accuracy = model.score(X_test, Y_test, L_test)\n",
    "logger.info(\"Accuracy: {0}\".format(accuracy))\n",
    "# for i in model.predict(X_test):\n",
    "#     print \"{0} \".format(i),"
   ]
  },
  {
   "cell_type": "code",
   "execution_count": null,
   "metadata": {
    "collapsed": true
   },
   "outputs": [],
   "source": []
  }
 ],
 "metadata": {
  "kernelspec": {
   "display_name": "Python 2",
   "language": "python",
   "name": "python2"
  },
  "language_info": {
   "codemirror_mode": {
    "name": "ipython",
    "version": 2
   },
   "file_extension": ".py",
   "mimetype": "text/x-python",
   "name": "python",
   "nbconvert_exporter": "python",
   "pygments_lexer": "ipython2",
   "version": "2.7.12"
  }
 },
 "nbformat": 4,
 "nbformat_minor": 1
}
