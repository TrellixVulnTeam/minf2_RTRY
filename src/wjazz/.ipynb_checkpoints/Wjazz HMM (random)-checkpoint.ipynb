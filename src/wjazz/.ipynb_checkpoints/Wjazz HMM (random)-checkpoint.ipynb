{
 "cells": [
  {
   "cell_type": "code",
   "execution_count": 1,
   "metadata": {
    "collapsed": false
   },
   "outputs": [
    {
     "name": "stdout",
     "output_type": "stream",
     "text": [
      "Getting data ...\n",
      "Data Loaded.\n",
      "Building HMM model ...\n",
      "Training model ...\n",
      "Testing model ...\n",
      "Accuracy: 0.268112760165\n",
      "Building HMM model ...\n",
      "Training model ...\n",
      "Testing model ...\n",
      "Accuracy: 0.343388284812\n",
      "Building HMM model ...\n",
      "Training model ...\n",
      "Testing model ...\n",
      "Accuracy: 0.311880746229\n",
      "Building HMM model ...\n",
      "Training model ...\n",
      "Testing model ...\n",
      "Accuracy: 0.465938360423\n",
      "Building HMM model ...\n",
      "Training model ...\n",
      "Testing model ...\n",
      "Accuracy: 0.454481173767\n",
      "Building HMM model ...\n",
      "Training model ...\n",
      "Testing model ...\n",
      "Accuracy: 0.405800673733\n",
      "Building HMM model ...\n",
      "Training model ...\n",
      "Testing model ...\n",
      "Accuracy: 0.295277679519\n",
      "Building HMM model ...\n",
      "Training model ...\n",
      "Testing model ...\n",
      "Accuracy: 0.315352697095\n",
      "Building HMM model ...\n",
      "Training model ...\n",
      "Testing model ...\n",
      "Accuracy: 0.36066424494\n",
      "Building HMM model ...\n",
      "Training model ...\n",
      "Testing model ...\n",
      "Accuracy: 0.392165531877\n"
     ]
    },
    {
     "data": {
      "text/plain": [
       "0.36130621525605139"
      ]
     },
     "execution_count": 1,
     "metadata": {},
     "output_type": "execute_result"
    }
   ],
   "source": [
    "from data_loader_no_t import DataLoader\n",
    "import math\n",
    "import numpy as np\n",
    "from seqlearn import hmm, perceptron, evaluation\n",
    "import logging\n",
    "import sys\n",
    "\n",
    "rs = np.random.RandomState(42)\n",
    "\n",
    "logger = logging.getLogger()\n",
    "logger.setLevel(logging.DEBUG)\n",
    "ch = logging.StreamHandler(sys.stdout)\n",
    "ch.setLevel(logging.DEBUG)\n",
    "logger.addHandler(ch)\n",
    "\n",
    "TRAINING_RATIO = 0.5\n",
    "\n",
    "logger.info('Getting data ...')\n",
    "dl = DataLoader()\n",
    "X, Y, L = dl.load()\n",
    "logger.info('Data Loaded.')\n",
    "\n",
    "kf = evaluation.SequenceKFold(L, n_folds=10, shuffle=True, random_state=rs)\n",
    "\n",
    "accuracies = []\n",
    "\n",
    "for train_indices, train_lengths, test_indices, test_lengths in kf:\n",
    "\n",
    "    # Number of songs\n",
    "    N = len(L)\n",
    "    l_split_point = int(math.ceil(N * TRAINING_RATIO))\n",
    "    xy_split_point = np.sum(L[:(l_split_point)])\n",
    "\n",
    "    X_train = X[train_indices]\n",
    "    Y_train = Y[train_indices]\n",
    "    L_train = train_lengths\n",
    "\n",
    "    len_train = np.sum(L_train)\n",
    "    len_X_train = len(X_train)\n",
    "    len_Y_train = len(Y_train)\n",
    "    assert len_train == len_X_train, \"sum of training lengths: {0} not equal to len(X_train): {1}\".format(len_train, len_X_train)\n",
    "    assert len_train == len_Y_train, \"sum of training lengths: {0} not equal to len(Y_train): {1}\".format(len_train, len_Y_train)\n",
    "\n",
    "    X_test = X[test_indices]\n",
    "    Y_test = Y[test_indices]\n",
    "    L_test = test_lengths\n",
    "\n",
    "    len_test = np.sum(L_test)\n",
    "    len_X_test = len(X_test)\n",
    "    len_Y_test = len(Y_test)\n",
    "    assert len_test == len_X_test, \"sum of testing lengths: {0} not equal to len(X_test): {1}\".format(len_test, len_X_test)\n",
    "    assert len_test == len_Y_test, \"sum of testing lengths: {0} not equal to len(Y_test): {1}\".format(len_test, len_Y_test)\n",
    "\n",
    "    logger.info('Building HMM model ...')\n",
    "    model = hmm.MultinomialHMM()\n",
    "    logger.info('Training model ...')\n",
    "    model.fit(X_train, Y_train, L_train)\n",
    "    logger.info('Testing model ...')\n",
    "    accuracy = model.score(X_test, Y_test, L_test)\n",
    "    logger.info(\"Accuracy: {0}\".format(accuracy))\n",
    "    # for i in model.predict(X_test):\n",
    "    #     print \"{0} \".format(i),\n",
    "    \n",
    "    accuracies.append(accuracy)\n",
    "\n",
    "    #     logger.info('Building model ...')\n",
    "    #     model = perceptron.StructuredPerceptron()\n",
    "    #     logger.info('Training model ...')\n",
    "    #     model.fit(X_train, Y_train, L_train)\n",
    "    #     logger.info('Testing model ...')\n",
    "    #     accuracy = model.score(X_test, Y_test, L_test)\n",
    "    #     logger.info(\"Accuracy: {0}\".format(accuracy))\n",
    "    #     # for i in model.predict(X_test):\n",
    "    #     #     print \"{0} \".format(i),\n",
    "    \n",
    "np.mean(accuracies)"
   ]
  },
  {
   "cell_type": "code",
   "execution_count": null,
   "metadata": {
    "collapsed": true
   },
   "outputs": [],
   "source": []
  }
 ],
 "metadata": {
  "kernelspec": {
   "display_name": "Python 2",
   "language": "python",
   "name": "python2"
  },
  "language_info": {
   "codemirror_mode": {
    "name": "ipython",
    "version": 2
   },
   "file_extension": ".py",
   "mimetype": "text/x-python",
   "name": "python",
   "nbconvert_exporter": "python",
   "pygments_lexer": "ipython2",
   "version": "2.7.12"
  }
 },
 "nbformat": 4,
 "nbformat_minor": 1
}
