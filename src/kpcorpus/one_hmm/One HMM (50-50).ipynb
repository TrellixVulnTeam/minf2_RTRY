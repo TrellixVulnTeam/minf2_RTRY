{
 "cells": [
  {
   "cell_type": "code",
   "execution_count": 1,
   "metadata": {
    "collapsed": false
   },
   "outputs": [
    {
     "name": "stdout",
     "output_type": "stream",
     "text": [
      "Seqlearn time ... \n",
      "Building HMM model ...\n",
      "Training model ...\n",
      "Testing model ...\n",
      "Accuracy: 0.510237068966\n"
     ]
    }
   ],
   "source": [
    "from kp_hmm import HMM\n",
    "from kp_data_loader import KPDataLoader, sequence\n",
    "# from sklearn.cross_validation import KFold\n",
    "import logging\n",
    "import sys\n",
    "from seqlearn import hmm, perceptron\n",
    "\n",
    "logger = logging.getLogger()\n",
    "logging.basicConfig(filename='../../../results/run_one_hmm.log',level=logging.DEBUG)\n",
    "\n",
    "# -----------------------------------------------\n",
    "\n",
    "# loader = KPDataLoader()\n",
    "# for i in range(1,46):\n",
    "#     loader.load_file('ex{0}a.mid.csv'.format(i))\n",
    "# XX, Y = loader.get_XX_and_YY()\n",
    "#\n",
    "# # -----------------------------------------------\n",
    "#\n",
    "# n = len(XX)\n",
    "# j = int(n - (float(n) * 0.1))\n",
    "#\n",
    "# XX_train = XX[0:j]\n",
    "# Y_train = Y[0:j]\n",
    "#\n",
    "# XX_test = XX[j:n]\n",
    "# Y_test = Y[j:n]\n",
    "#\n",
    "# # -----------------------------------------------\n",
    "#\n",
    "# model = HMM()\n",
    "# model.train(XX_train, Y_train)\n",
    "# accuracy, y_pred = model.test(XX_test, Y_test)\n",
    "#\n",
    "# logger.info(\"Accuracy: {0}\".format(accuracy))\n",
    "#\n",
    "# def cross_val(n=10):\n",
    "# \t\t\"\"\"\n",
    "# \t\tn : n-crossvalidation\n",
    "# \t\t\"\"\"\n",
    "#\n",
    "# \t\tL = len(XX_train)\n",
    "# \t\tkf = KFold(L,n_folds=n)\n",
    "#\n",
    "# \t\tmodels = []\n",
    "# \t\tscores = []\n",
    "#\n",
    "# \t\tc = 0\n",
    "#\n",
    "# \t\tfor c, (train_indexes, val_indexes) in enumerate(kf):\n",
    "#\n",
    "# \t\t\tlogger.debug(\"On Fold \" + str(c))\n",
    "#\n",
    "# \t\t\txx_train = []\n",
    "# \t\t\ty_train = []\n",
    "# \t\t\txx_val = []\n",
    "# \t\t\ty_val = []\n",
    "# \t\t\tfor i in train_indexes:\n",
    "# \t\t\t\txx_train.append(XX_train[i][:])\n",
    "# \t\t\t\ty_train.append(Y_train[i][:])\n",
    "# \t\t\tfor j in val_indexes:\n",
    "# \t\t\t\txx_val.append(XX_train[j][:])\n",
    "# \t\t\t\ty_val.append(Y_train[j][:])\n",
    "#\n",
    "# \t\t\tmodel = HMM()\n",
    "#\n",
    "# \t\t\tlogger.debug(str(len(xx_train)) + \",\" + str(len(y_train)))\n",
    "# \t\t\tmodel.train(xx_train,y_train)\n",
    "#\n",
    "# \t\t\tlogger.debug(\"Testing ...\")\n",
    "# \t\t\tscore, _ = model.test(xx_val,y_val)\n",
    "#\n",
    "# \t\t\tlogger.debug(\"Fold \" + str(c) + \" scored \" + str(score))\n",
    "#\n",
    "# \t\t\tmodels.append(model)\n",
    "# \t\t\tscores.append(score)\n",
    "#\n",
    "# \t\tmax_score = max(scores)\n",
    "#\n",
    "# \t\tprint max_score\n",
    "#\n",
    "# \t\tmax_index = 0\n",
    "# \t\tfor idx, score in enumerate(scores):\n",
    "# \t\t\tif score == max_score:\n",
    "# \t\t\t\tmax_index = idx\n",
    "# \t\t\t\tbreak\n",
    "#\n",
    "# \t\tlogger.info(\"Final Test ...\")\n",
    "#\n",
    "# \t\tscore, _ = models[max_index].test(XX_test,Y_test)\n",
    "# \t\tlogger.info(\"Final Accuracy: {0}\".format(score))\n",
    "#\n",
    "# \t\treturn models[max_index]\n",
    "#\n",
    "# model = cross_val(10)\n",
    "\n",
    "# -----------------------------------------------\n",
    "\n",
    "# Now with seqlearn\n",
    "\n",
    "logger.info(\"Seqlearn time ... \")\n",
    "# Get data again just in case I messed up somewhere\n",
    "loader = KPDataLoader()\n",
    "for i in range(1,46):\n",
    "    loader.load_file('ex{0}a.mid.csv'.format(i))\n",
    "XX, YY = loader.get_XX_and_YY()\n",
    "\n",
    "# -----------------------------------------------\n",
    "\n",
    "n = len(XX)\n",
    "j = int(n - (float(n) * 0.5))\n",
    "\n",
    "XX_train = XX[0:j]\n",
    "YY_train = YY[0:j]\n",
    "\n",
    "X_train, Y_train, L_train = sequence(XX_train, YY_train)\n",
    "\n",
    "XX_test = XX[j:n]\n",
    "YY_test = YY[j:n]\n",
    "\n",
    "X_test, Y_test, L_test = sequence(XX_test, YY_test)\n",
    "\n",
    "logger.info('Building HMM model ...')\n",
    "model = hmm.MultinomialHMM()\n",
    "logger.info('Training model ...')\n",
    "model.fit(X_train, Y_train, L_train)\n",
    "logger.info('Testing model ...')\n",
    "accuracy = model.score(X_test, Y_test, L_test)\n",
    "\n",
    "logger.info(\"Accuracy: {0}\".format(accuracy))\n",
    "# for i in model.predict(X_test, L_test):\n",
    "#     print \"{0} \".format(i),\n",
    "\n",
    "# logger.info('Building Percpetron model ...')\n",
    "# model = perceptron.StructuredPerceptron()\n",
    "# logger.info('Training model ...')\n",
    "# model.fit(X_train, Y_train, L_train)\n",
    "# logger.info('Testing model ...')\n",
    "# accuracy = model.score(X_test, Y_test, L_test)\n",
    "# logger.info(\"Accuracy: {0}\".format(accuracy))\n",
    "# -----------------------------------------------"
   ]
  },
  {
   "cell_type": "code",
   "execution_count": 7,
   "metadata": {
    "collapsed": false
   },
   "outputs": [
    {
     "data": {
      "text/plain": [
       "array([10, 10, 10, 10,  5,  5,  5,  5,  5,  5,  5,  5,  5,  5,  5,  5,  5,\n",
       "        5,  5,  5,  5,  5,  5,  5,  5,  5,  5,  5,  5,  5,  5,  5,  5,  5,\n",
       "        5,  5,  5,  5,  5, 10, 10, 10, 10, 10, 10, 10, 10, 10, 10, 10, 10,\n",
       "        5,  5,  5,  5,  5,  5,  5,  5,  5,  5,  5,  5,  5,  5,  5,  5,  5,\n",
       "        5,  5,  5, 10, 10, 10, 10, 10,  5,  5,  5,  5,  5,  5,  5,  5, 10,\n",
       "       10, 10, 10,  8,  8,  8,  8,  8,  8,  8,  8,  8,  8,  1,  1,  1,  1,\n",
       "        1,  1,  1,  1,  1,  1,  1,  1,  1,  1,  1,  1,  1,  1,  1,  1,  1,\n",
       "        1,  1,  1,  1,  1,  1,  1,  1,  1,  1,  1,  1,  1,  1,  1,  1,  1,\n",
       "        1,  1,  1,  1, 10, 10, 10, 10, 10, 10, 10, 10, 10, 10, 10, 10, 10,\n",
       "       10,  8,  8,  8,  8,  8,  8,  8,  1,  1,  1,  1,  1,  1,  1,  1,  1,\n",
       "        1,  1,  1,  1,  1,  1,  1,  1,  1,  1,  1,  1,  1, 10, 10, 10, 10,\n",
       "       10, 10, 10, 10, 10, 10, 10, 10, 10, 10, 10, 10, 10, 10, 10, 10, 10,\n",
       "       10, 10, 10, 10, 10, 10, 10, 10, 10, 10, 10,  5,  5,  5,  5,  5,  5,\n",
       "        5,  5,  5,  5,  5,  5,  5,  5, 10, 10, 10, 10, 10, 10])"
      ]
     },
     "execution_count": 7,
     "metadata": {},
     "output_type": "execute_result"
    }
   ],
   "source": [
    "loader = KPDataLoader()\n",
    "loader.load_file('ex3a.mid.csv'.format(i))\n",
    "XX, YY = loader.get_XX_and_YY()\n",
    "X, Y, L = sequence(XX, YY)\n",
    "model.predict(X)"
   ]
  },
  {
   "cell_type": "code",
   "execution_count": 8,
   "metadata": {
    "collapsed": false
   },
   "outputs": [
    {
     "data": {
      "text/plain": [
       "array([ 8,  8,  8,  8,  9,  9,  9, 10, 10, 10, 10, 10,  5,  5,  5, 10, 10,\n",
       "       10, 10, 10, 10,  9,  9,  9,  9,  9, 10, 10, 10, 10, 10, 12, 12, 12,\n",
       "       12,  5,  5,  5,  5, 10, 10, 10, 10, 10, 10, 10, 10, 10,  6,  6,  6,\n",
       "        6,  6,  6, 12, 12, 12, 12,  5,  5,  5,  3,  3,  3,  3,  3,  9,  9,\n",
       "        9,  9, 10, 10, 10, 10, 10, 10,  5,  5,  5,  5,  5,  5,  5,  5, 10,\n",
       "       10, 10, 10, 10,  3,  3,  3,  3,  8,  8,  8,  8,  8,  1,  1,  1,  1,\n",
       "        1, 10, 10, 10, 10, 10, 10,  3,  3,  3,  3,  3,  3,  8,  8,  8,  8,\n",
       "        1,  1,  1,  1,  8,  8,  8,  8,  1,  1,  1,  1,  1,  1,  1,  1,  1,\n",
       "        1,  1,  6,  6,  6,  6,  6,  6,  6, 10, 10, 10, 10, 10, 10,  3,  3,\n",
       "        3,  3,  3,  3,  8,  8,  8,  8,  1,  1,  1,  1,  8,  8,  8,  8, 10,\n",
       "       10, 10, 10, 10,  8,  8,  8,  8,  8,  1,  1,  1,  1,  1,  1,  5,  5,\n",
       "        5,  5,  5, 10, 10, 10, 10,  5,  5,  5,  5, 10, 10, 10, 10,  5,  5,\n",
       "        5,  5,  5, 10, 10, 10, 10, 10, 10,  3,  3,  3,  3, 10, 10, 10, 12,\n",
       "       12, 12, 12, 12, 12,  5,  5,  5,  5,  5, 10, 10, 10, 10])"
      ]
     },
     "execution_count": 8,
     "metadata": {},
     "output_type": "execute_result"
    }
   ],
   "source": [
    "Y"
   ]
  },
  {
   "cell_type": "code",
   "execution_count": null,
   "metadata": {
    "collapsed": true
   },
   "outputs": [],
   "source": []
  }
 ],
 "metadata": {
  "kernelspec": {
   "display_name": "Python 2",
   "language": "python",
   "name": "python2"
  },
  "language_info": {
   "codemirror_mode": {
    "name": "ipython",
    "version": 2
   },
   "file_extension": ".py",
   "mimetype": "text/x-python",
   "name": "python",
   "nbconvert_exporter": "python",
   "pygments_lexer": "ipython2",
   "version": "2.7.12"
  }
 },
 "nbformat": 4,
 "nbformat_minor": 0
}
