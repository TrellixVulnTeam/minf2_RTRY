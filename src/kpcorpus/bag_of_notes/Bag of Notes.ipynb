{
 "cells": [
  {
   "cell_type": "code",
   "execution_count": 1,
   "metadata": {
    "collapsed": false
   },
   "outputs": [
    {
     "name": "stderr",
     "output_type": "stream",
     "text": [
      "/usr/local/lib/python2.7/site-packages/sklearn/cross_validation.py:44: DeprecationWarning: This module was deprecated in version 0.18 in favor of the model_selection module into which all the refactored classes and functions are moved. Also note that the interface of the new CV iterators are different from that of this module. This module will be removed in 0.20.\n",
      "  \"This module will be removed in 0.20.\", DeprecationWarning)\n"
     ]
    },
    {
     "name": "stdout",
     "output_type": "stream",
     "text": [
      "Accuracy: 0.0897703549061\n",
      "Accuracy: 0.0897703549061\n"
     ]
    }
   ],
   "source": [
    "from kp_hmm import HMM\n",
    "from kp_data_loader import KPDataLoader\n",
    "from sklearn.cross_validation import KFold\n",
    "import logging\n",
    "import sys\n",
    "\n",
    "logger = logging.getLogger()\n",
    "logger.setLevel(logging.INFO)\n",
    "ch = logging.StreamHandler(sys.stdout)\n",
    "ch.setLevel(logging.INFO)\n",
    "logger.addHandler(ch)\n",
    "\n",
    "# -----------------------------------------------\n",
    "\n",
    "loader = KPDataLoader()\n",
    "for i in range(1,46):\n",
    "    loader.load_file('ex{0}a.mid.csv'.format(i))\n",
    "XX, Y = loader.get_XX_and_Y()\n",
    "\n",
    "# -----------------------------------------------\n",
    "\n",
    "n = len(XX)\n",
    "j = int(n - (float(n) * 0.5))\n",
    "\n",
    "XX_train = XX[0:j]\n",
    "Y_train = Y[0:j]\n",
    "\n",
    "XX_test = XX[j:n]\n",
    "Y_test = Y[j:n]\n",
    "\n",
    "# -----------------------------------------------\n",
    "\n",
    "model = HMM()\n",
    "model.train(XX_train, Y_train)\n",
    "accuracy, y_pred = model.test(XX_test, Y_test)\n",
    "\n",
    "logger.info(\"Accuracy: {0}\".format(accuracy))\n",
    "\n",
    "# def cross_val(n=10):\n",
    "# \t\t\"\"\"\n",
    "# \t\tn : n-crossvalidation\n",
    "# \t\t\"\"\"\n",
    "\n",
    "# \t\tL = len(XX_train)\n",
    "# \t\tkf = KFold(L,n_folds=n)\n",
    "\n",
    "# \t\tmodels = []\n",
    "# \t\tscores = []\n",
    "\n",
    "# \t\tc = 0\n",
    "\n",
    "# \t\tfor c, (train_indexes, val_indexes) in enumerate(kf):\n",
    "\n",
    "# \t\t\tlogger.debug(\"On Fold \" + str(c))\n",
    "\n",
    "# \t\t\txx_train = []\n",
    "# \t\t\ty_train = []\n",
    "# \t\t\txx_val = []\n",
    "# \t\t\ty_val = []\n",
    "# \t\t\tfor i in train_indexes:\n",
    "# \t\t\t\txx_train.append(XX_train[i][:])\n",
    "# \t\t\t\ty_train.append(Y_train[i][:])\n",
    "# \t\t\tfor j in val_indexes:\n",
    "# \t\t\t\txx_val.append(XX_train[j][:])\n",
    "# \t\t\t\ty_val.append(Y_train[j][:])\n",
    "\n",
    "# \t\t\tmodel = HMM()\n",
    "\n",
    "# \t\t\tlogger.debug(str(len(xx_train)) + \",\" + str(len(y_train)))\n",
    "# \t\t\tmodel.train(xx_train,y_train)\n",
    "\n",
    "# \t\t\tlogger.debug(\"Testing ...\")\n",
    "# \t\t\tscore, _ = model.test(xx_val,y_val)\n",
    "\n",
    "# \t\t\tlogger.debug(\"Fold \" + str(c) + \" scored \" + str(score))\n",
    "\n",
    "# \t\t\tmodels.append(model)\n",
    "# \t\t\tscores.append(score)\n",
    "\n",
    "# \t\tmax_score = max(scores)\n",
    "\n",
    "# # \t\tprint max_score\n",
    "\n",
    "# \t\tmax_index = 0\n",
    "# \t\tfor idx, score in enumerate(scores):\n",
    "# \t\t\tif score == max_score:\n",
    "# \t\t\t\tmax_index = idx\n",
    "# \t\t\t\tbreak\n",
    "\n",
    "# \t\tlogger.info(\"Final Test ...\")\n",
    "\n",
    "# \t\tscore, _ = models[max_index].test(XX_test,Y_test)\n",
    "# \t\tlogger.info(\"Final Accuracy: {0}\".format(score))\n",
    "\n",
    "# \t\treturn models[max_index]\n",
    "\n",
    "# model = cross_val(10)"
   ]
  }
 ],
 "metadata": {
  "kernelspec": {
   "display_name": "Python 2",
   "language": "python",
   "name": "python2"
  },
  "language_info": {
   "codemirror_mode": {
    "name": "ipython",
    "version": 2
   },
   "file_extension": ".py",
   "mimetype": "text/x-python",
   "name": "python",
   "nbconvert_exporter": "python",
   "pygments_lexer": "ipython2",
   "version": "2.7.12"
  }
 },
 "nbformat": 4,
 "nbformat_minor": 0
}
