{
 "cells": [
  {
   "cell_type": "code",
   "execution_count": 3,
   "metadata": {
    "collapsed": false
   },
   "outputs": [
    {
     "name": "stdout",
     "output_type": "stream",
     "text": [
      "Getting Data ... \n",
      "First Note Baseline ...\n",
      "Accuracy: 0.187320402299\n",
      "Tonic Baseline ...\n",
      "Accuracy: 0.0\n"
     ]
    }
   ],
   "source": [
    "from kp_data_loader import KPDataLoader\n",
    "# from sklearn.cross_validation import KFold\n",
    "import logging\n",
    "import sys\n",
    "\n",
    "logger = logging.getLogger()\n",
    "TONIC = 1\n",
    "TRAIN_TEST_RATIO = 0.5\n",
    "\n",
    "def make_chords_per_note(XX, Y):\n",
    "    YY = []\n",
    "    for i, y in enumerate(Y):\n",
    "        YY_i = []\n",
    "        for j, frame in enumerate(XX[i]):\n",
    "            for k, note in enumerate(frame):\n",
    "                YY_i.append(y[j])\n",
    "        YY.append(YY_i)\n",
    "    return YY\n",
    "\n",
    "def get_rid_of_XX_frames(XX):\n",
    "    output = []\n",
    "    for X in XX:\n",
    "        output_i = []\n",
    "        for x in X:\n",
    "            output_i += x\n",
    "        output.append(output_i)\n",
    "    return output\n",
    "\n",
    "def baseline_model_first_note(XX):\n",
    "    full_guess = []\n",
    "    for i, X in enumerate(XX):\n",
    "        guess_i = []\n",
    "        current_guess = None\n",
    "        for j, x in enumerate(X):\n",
    "            if j < 1:\n",
    "                current_guess = x + 1\n",
    "            guess_i.append(current_guess)\n",
    "        full_guess.append(guess_i)\n",
    "    return full_guess\n",
    "\n",
    "def baseline_model_tonic(XX):\n",
    "    full_guess = []\n",
    "    for i, X in enumerate(XX):\n",
    "        guess_i = []\n",
    "        for j, x in enumerate(X):\n",
    "            guess_i.append(TONIC)\n",
    "        full_guess.append(guess_i)\n",
    "    return full_guess\n",
    "\n",
    "def get_accuracy(prediction, YY):\n",
    "    total_count = 0\n",
    "    num_correct = 0\n",
    "    for i, Y in enumerate(YY):\n",
    "        for j, y in enumerate(Y):\n",
    "            total_count += 1\n",
    "            guess = prediction[i][j]\n",
    "            if guess == y:\n",
    "                num_correct += 1\n",
    "    return float(num_correct) / float(total_count)\n",
    "\n",
    "logger.info(\"Getting Data ... \")\n",
    "# Get data again just in case I messed up somewhere\n",
    "loader = KPDataLoader()\n",
    "for i in range(1,46):\n",
    "    loader.load_file('ex{0}a.mid.csv'.format(i))\n",
    "XX, Y = loader.get_XX_and_Y()\n",
    "YY = make_chords_per_note(XX, Y)\n",
    "XX = get_rid_of_XX_frames(XX)\n",
    "\n",
    "# -----------------------------------------------\n",
    "\n",
    "n = len(XX)\n",
    "j = int(n - (float(n) * TRAIN_TEST_RATIO))\n",
    "\n",
    "XX_train = XX[0:j]\n",
    "YY_train = YY[0:j]\n",
    "\n",
    "XX_test = XX[j:n]\n",
    "YY_test = YY[j:n]\n",
    "\n",
    "logger.info(\"First Note Baseline ...\")\n",
    "first_note_baseline_prediction = baseline_model_first_note(XX_test)\n",
    "assert len(first_note_baseline_prediction) == len(YY_test)\n",
    "first_note_baseline_accuracy = get_accuracy(first_note_baseline_prediction, YY_test)\n",
    "logger.info(\"Accuracy: {0}\".format(first_note_baseline_accuracy))\n",
    "\n",
    "logger.info(\"Tonic Baseline ...\")\n",
    "tonic_baseline_prediction = baseline_model_tonic(XX_test)\n",
    "assert len(tonic_baseline_prediction) == len(YY_test)\n",
    "tonic_baseline_accuracy = get_accuracy(tonic_baseline_prediction, YY_test)\n",
    "logger.info(\"Accuracy: {0}\".format(tonic_baseline_accuracy))\n",
    "# -----------------------------------------------\n"
   ]
  },
  {
   "cell_type": "code",
   "execution_count": null,
   "metadata": {
    "collapsed": true
   },
   "outputs": [],
   "source": []
  }
 ],
 "metadata": {
  "kernelspec": {
   "display_name": "Python 2",
   "language": "python",
   "name": "python2"
  },
  "language_info": {
   "codemirror_mode": {
    "name": "ipython",
    "version": 2
   },
   "file_extension": ".py",
   "mimetype": "text/x-python",
   "name": "python",
   "nbconvert_exporter": "python",
   "pygments_lexer": "ipython2",
   "version": "2.7.12"
  }
 },
 "nbformat": 4,
 "nbformat_minor": 1
}
