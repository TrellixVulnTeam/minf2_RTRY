{
 "cells": [
  {
   "cell_type": "code",
   "execution_count": 1,
   "metadata": {},
   "outputs": [
    {
     "name": "stderr",
     "output_type": "stream",
     "text": [
      "Using TensorFlow backend.\n"
     ]
    }
   ],
   "source": [
    "import keras\n",
    "from keras.layers import LSTM\n",
    "import numpy as np\n",
    "from sklearn.model_selection import KFold, LeaveOneOut\n",
    "import logging\n",
    "\n",
    "np.random.seed(42)\n",
    "\n",
    "logger = logging.getLogger()\n",
    "logging.basicConfig(filename='../../../results/run_one_hmm.log',level=logging.DEBUG)\n"
   ]
  },
  {
   "cell_type": "code",
   "execution_count": 2,
   "metadata": {
    "collapsed": true
   },
   "outputs": [],
   "source": [
    "from kp_data_loader import KPDataLoader"
   ]
  },
  {
   "cell_type": "code",
   "execution_count": 3,
   "metadata": {},
   "outputs": [],
   "source": [
    "# Get data again just in case I messed up somewhere\n",
    "loader = KPDataLoader()\n",
    "for i in range(1,46):\n",
    "    loader.load_file('ex{0}a.mid.csv'.format(i))\n",
    "X, Y, m = loader.get_XX_and_YY()"
   ]
  },
  {
   "cell_type": "code",
   "execution_count": 4,
   "metadata": {},
   "outputs": [
    {
     "data": {
      "text/plain": [
       "673"
      ]
     },
     "execution_count": 4,
     "metadata": {},
     "output_type": "execute_result"
    }
   ],
   "source": [
    "from keras.preprocessing.sequence import pad_sequences\n",
    "m"
   ]
  },
  {
   "cell_type": "code",
   "execution_count": 5,
   "metadata": {},
   "outputs": [],
   "source": [
    "X_pad = pad_sequences(X, maxlen=m, padding='post')\n",
    "Y_pad = pad_sequences(Y, maxlen=m, padding='post')\n",
    "perm = np.random.permutation(len(X_pad))\n",
    "X_pad = X_pad[perm]\n",
    "Y_pad = Y_pad[perm]"
   ]
  },
  {
   "cell_type": "code",
   "execution_count": 6,
   "metadata": {},
   "outputs": [],
   "source": [
    "sample_weights = np.ones((45, m))\n",
    "for i in xrange(len(X)):\n",
    "    for j in xrange(m):\n",
    "        if (X_pad[i][j] == np.zeros(12)).all():\n",
    "            sample_weights[i][j] = 0"
   ]
  },
  {
   "cell_type": "code",
   "execution_count": 7,
   "metadata": {
    "collapsed": true
   },
   "outputs": [],
   "source": [
    "from keras.models import Sequential"
   ]
  },
  {
   "cell_type": "code",
   "execution_count": 8,
   "metadata": {
    "collapsed": true
   },
   "outputs": [],
   "source": [
    "# model = Sequential()"
   ]
  },
  {
   "cell_type": "code",
   "execution_count": 9,
   "metadata": {
    "collapsed": true
   },
   "outputs": [],
   "source": [
    "from keras.layers import Dense\n",
    "from keras.layers import Masking\n",
    "from keras.layers import Dropout\n",
    "from keras.layers.wrappers import TimeDistributed"
   ]
  },
  {
   "cell_type": "code",
   "execution_count": 10,
   "metadata": {
    "collapsed": true
   },
   "outputs": [],
   "source": [
    "from keras.layers import Embedding"
   ]
  },
  {
   "cell_type": "code",
   "execution_count": 11,
   "metadata": {},
   "outputs": [],
   "source": [
    "# mask = np.zeros(12)\n",
    "# model.add(Masking(mask_value=mask, input_shape=(m, 12)))\n",
    "# model.add(LSTM(50, return_sequences=True, dropout_W=0.4, dropout_U=0.4))\n",
    "# model.add(TimeDistributed(Dense(12, activation=\"softmax\")))"
   ]
  },
  {
   "cell_type": "code",
   "execution_count": 12,
   "metadata": {
    "collapsed": true
   },
   "outputs": [],
   "source": [
    "from keras.utils.np_utils import to_categorical"
   ]
  },
  {
   "cell_type": "code",
   "execution_count": 13,
   "metadata": {},
   "outputs": [],
   "source": [
    "# model.compile(optimizer='rmsprop',\n",
    "#               loss='categorical_crossentropy',\n",
    "#               sample_weight_mode='temporal')"
   ]
  },
  {
   "cell_type": "code",
   "execution_count": 14,
   "metadata": {
    "collapsed": true
   },
   "outputs": [],
   "source": [
    "# n = len(X)\n",
    "# j = int(n - (float(n) * 0.5))\n",
    "# X_train, X_test = X_pad[:j, :], X_pad[j:, :]"
   ]
  },
  {
   "cell_type": "code",
   "execution_count": 15,
   "metadata": {
    "collapsed": true
   },
   "outputs": [],
   "source": [
    "# Y_train, Y_test = Y_pad[:j, :], Y_pad[j:, :]"
   ]
  },
  {
   "cell_type": "code",
   "execution_count": 16,
   "metadata": {
    "collapsed": true
   },
   "outputs": [],
   "source": [
    "# sample_weights_train, sample_weights_test = sample_weights[:j, :], sample_weights[j:, :]"
   ]
  },
  {
   "cell_type": "code",
   "execution_count": null,
   "metadata": {},
   "outputs": [],
   "source": [
    "# # for custom metrics\n",
    "import numpy as K\n",
    "\n",
    "# def weighted_accuracy(y_true, y_pred):\n",
    "#     score_array *= sample_weights\n",
    "# score_array /= K.mean(K.cast(K.not_equal(weights, 0), K.floatx()))\n",
    "\n",
    "def weighted_accuracy(y_true, y_pred):\n",
    "    # Only for testing\n",
    "#     score_array = K.equal(K.argmax(y_true, axis=-1),\n",
    "#                           K.argmax(y_pred, axis=-1))\n",
    "#     score_array *= weights\n",
    "#     score_array /= K.mean(K.cast(K.not_equal(weights, 0), K.floatx()))\n",
    "#     return K.mean(score_array)\n",
    "    total = 0.0\n",
    "    count = 0.0\n",
    "    for i, y_i in enumerate(y_true):\n",
    "        for j, y_ij in enumerate(y_i):\n",
    "            if sum(y_ij) > 0:\n",
    "                total += y_ij[y_pred[i][j]]\n",
    "                count += 1\n",
    "    return total / count"
   ]
  },
  {
   "cell_type": "code",
   "execution_count": null,
   "metadata": {},
   "outputs": [
    {
     "name": "stdout",
     "output_type": "stream",
     "text": [
      "On Fold 0\n",
      "Epoch 1/500\n",
      "40/40 [==============================] - 3s - loss: 8.8675\n",
      "Epoch 2/500\n",
      "40/40 [==============================] - 1s - loss: 8.7339\n",
      "Epoch 3/500\n",
      "40/40 [==============================] - 1s - loss: 8.6341\n",
      "Epoch 4/500\n",
      "40/40 [==============================] - 2s - loss: 8.6321\n",
      "Epoch 5/500\n",
      "40/40 [==============================] - 2s - loss: 8.5944\n",
      "Epoch 6/500\n",
      "40/40 [==============================] - 1s - loss: 8.4776\n",
      "Epoch 7/500\n",
      "40/40 [==============================] - 2s - loss: 8.3783\n",
      "Epoch 8/500\n",
      "40/40 [==============================] - 2s - loss: 8.3941\n",
      "Epoch 9/500\n",
      "40/40 [==============================] - 1s - loss: 8.3918\n",
      "Epoch 10/500\n",
      "40/40 [==============================] - 2s - loss: 8.3428\n",
      "Epoch 11/500\n",
      "40/40 [==============================] - 2s - loss: 8.3235\n",
      "Epoch 12/500\n",
      "40/40 [==============================] - 2s - loss: 8.2634\n",
      "Epoch 13/500\n",
      "40/40 [==============================] - 2s - loss: 8.1698\n",
      "Epoch 14/500\n",
      "40/40 [==============================] - 2s - loss: 8.1493\n",
      "Epoch 15/500\n",
      "40/40 [==============================] - 2s - loss: 8.0842\n",
      "Epoch 16/500\n",
      "40/40 [==============================] - 1s - loss: 8.0968\n",
      "Epoch 17/500\n",
      "40/40 [==============================] - 2s - loss: 8.0698\n",
      "Epoch 18/500\n",
      "40/40 [==============================] - 1s - loss: 8.0912\n",
      "Epoch 19/500\n",
      "40/40 [==============================] - 2s - loss: 8.0048\n",
      "Epoch 20/500\n",
      "40/40 [==============================] - 2s - loss: 7.9591\n",
      "Epoch 21/500\n",
      "40/40 [==============================] - 1s - loss: 8.0833\n",
      "Epoch 22/500\n",
      "40/40 [==============================] - 1s - loss: 7.9570\n",
      "Epoch 23/500\n",
      "40/40 [==============================] - 2s - loss: 7.9765\n",
      "Epoch 24/500\n",
      "40/40 [==============================] - 2s - loss: 7.9042\n",
      "Epoch 25/500\n",
      "40/40 [==============================] - 1s - loss: 7.9313\n",
      "Epoch 26/500\n",
      "40/40 [==============================] - 1s - loss: 7.8829\n",
      "Epoch 27/500\n",
      "40/40 [==============================] - 1s - loss: 7.8902\n",
      "Epoch 28/500\n",
      "40/40 [==============================] - 2s - loss: 7.7690\n",
      "Epoch 29/500\n",
      "40/40 [==============================] - 2s - loss: 7.7619\n",
      "Epoch 30/500\n",
      "40/40 [==============================] - 1s - loss: 7.7279\n",
      "Epoch 31/500\n",
      "40/40 [==============================] - 2s - loss: 7.8126\n",
      "Epoch 32/500\n",
      "40/40 [==============================] - 2s - loss: 7.8064\n",
      "Epoch 33/500\n",
      "40/40 [==============================] - 2s - loss: 7.7283\n",
      "Epoch 34/500\n",
      "40/40 [==============================] - 2s - loss: 7.6456\n",
      "Epoch 35/500\n",
      "40/40 [==============================] - 2s - loss: 7.7854\n",
      "Epoch 36/500\n",
      "40/40 [==============================] - 2s - loss: 7.5885\n",
      "Epoch 37/500\n",
      "40/40 [==============================] - 2s - loss: 7.6311\n",
      "Epoch 38/500\n",
      "40/40 [==============================] - 2s - loss: 7.6599\n",
      "Epoch 39/500\n",
      "40/40 [==============================] - 2s - loss: 7.6880\n",
      "Epoch 40/500\n",
      "40/40 [==============================] - 2s - loss: 7.7048\n",
      "Epoch 41/500\n",
      "40/40 [==============================] - 1s - loss: 7.7595\n",
      "Epoch 42/500\n",
      "40/40 [==============================] - 2s - loss: 7.7790\n",
      "Epoch 43/500\n",
      "40/40 [==============================] - 1s - loss: 7.6630\n",
      "Epoch 44/500\n",
      "40/40 [==============================] - 1s - loss: 7.6769\n",
      "Epoch 45/500\n",
      "40/40 [==============================] - 2s - loss: 7.5578\n",
      "Epoch 46/500\n",
      "40/40 [==============================] - 2s - loss: 7.6212\n",
      "Epoch 47/500\n",
      "40/40 [==============================] - 2s - loss: 7.6565\n",
      "Epoch 48/500\n",
      "40/40 [==============================] - 1s - loss: 7.5634\n",
      "Epoch 49/500\n"
     ]
    }
   ],
   "source": [
    "# hist = model.fit(X_train, Y_train, batch_size=j, nb_epoch=500, sample_weight=sample_weights_train)\n",
    "\n",
    "def cross_val(X_pad, Y_pad, sample_weights, m, n=10):\n",
    "    \"\"\"\n",
    "    n : n-crossvalidation\n",
    "    \"\"\"\n",
    "\n",
    "    L = len(X_pad)\n",
    "    kf = KFold(n_splits=n)\n",
    "\n",
    "    models = []\n",
    "    scores = []\n",
    "    hists = []\n",
    "\n",
    "    c = 0\n",
    "\n",
    "    for c, (train_indexes, val_indexes) in enumerate(kf.split(X_pad)):\n",
    "\n",
    "        logger.debug(\"On Fold \" + str(c))\n",
    "\n",
    "        xx_train = []\n",
    "        y_train = []\n",
    "        xx_val = []\n",
    "        y_val = []\n",
    "        sample_weights_train = []\n",
    "        sample_weights_test = []\n",
    "        \n",
    "        for i in train_indexes:\n",
    "            xx_train.append(X_pad[i][:])\n",
    "            y_train.append(Y_pad[i][:])\n",
    "            sample_weights_train.append(sample_weights[i][:])\n",
    "        for j in val_indexes:\n",
    "            xx_val.append(X_pad[j][:])\n",
    "            y_val.append(Y_pad[j][:])\n",
    "            sample_weights_test.append(sample_weights[j][:])\n",
    "            \n",
    "        l = len(xx_train)\n",
    "        \n",
    "        xx_train = np.asarray(xx_train)\n",
    "        xx_val = np.asarray(xx_val)\n",
    "        y_train = np.asarray(y_train)\n",
    "        y_val = np.asarray(y_val)\n",
    "        sample_weights_train = np.asarray(sample_weights_train)\n",
    "        sample_weights_test = np.asarray(sample_weights_test)\n",
    "        \n",
    "        model = Sequential()\n",
    "\n",
    "        mask = np.zeros(12)\n",
    "        model.add(Masking(mask_value=mask, input_shape=(m, 12)))\n",
    "        model.add(LSTM(50, return_sequences=True, dropout_W=0.4, dropout_U=0.4))\n",
    "        model.add(TimeDistributed(Dense(12, activation=\"softmax\")))\n",
    "        \n",
    "        model.compile(optimizer='rmsprop',\n",
    "              loss='categorical_crossentropy',\n",
    "              sample_weight_mode='temporal')\n",
    "\n",
    "#         logger.debug(str(len(X_train)) + \",\" + str(len(Y_train)))\n",
    "        hist = model.fit(xx_train, y_train, batch_size=l, nb_epoch=500, sample_weight=sample_weights_train)\n",
    "        \n",
    "        hists.append(hist)\n",
    "\n",
    "        logger.debug(\"Testing ...\")\n",
    "        Y_prediction = model.predict_classes(xx_val, batch_size=5)\n",
    "        accuracy = weighted_accuracy(y_val, Y_prediction)\n",
    "        \n",
    "        logger.debug(\"Fold \" + str(c) + \" scored \" + str(accuracy))\n",
    "\n",
    "        models.append(model)\n",
    "        scores.append(accuracy)\n",
    "\n",
    "#     max_score = max(scores)\n",
    "\n",
    "#     print max_score\n",
    "\n",
    "#     max_index = 0\n",
    "#     for idx, score in enumerate(scores):\n",
    "#         if score == max_score:\n",
    "#             max_index = idx\n",
    "#             break\n",
    "    \n",
    "    return scores, hists\n",
    "\n",
    "scores, hists = cross_val(X_pad, Y_pad, sample_weights, m, n=10)"
   ]
  },
  {
   "cell_type": "code",
   "execution_count": null,
   "metadata": {},
   "outputs": [],
   "source": [
    "mean"
   ]
  },
  {
   "cell_type": "code",
   "execution_count": null,
   "metadata": {},
   "outputs": [],
   "source": [
    "# Y_prediction = to_categorical(Y_prediction)\n",
    "# weighted_accuracy(Y_test, Y_prediction, sample_weights_test)\n",
    "weighted_accuracy(Y_test, Y_prediction)"
   ]
  },
  {
   "cell_type": "code",
   "execution_count": null,
   "metadata": {},
   "outputs": [],
   "source": [
    "model.evaluate(X_test, Y_test, batch_size=20, sample_weight=sample_weights_test)"
   ]
  },
  {
   "cell_type": "code",
   "execution_count": null,
   "metadata": {},
   "outputs": [],
   "source": [
    "Y_prediction[0]"
   ]
  },
  {
   "cell_type": "code",
   "execution_count": null,
   "metadata": {},
   "outputs": [],
   "source": [
    "loader = KPDataLoader()\n",
    "loader.load_file('ex1a.mid.csv')\n",
    "X, Y, m = loader.get_XX_and_YY()\n",
    "X_pad = pad_sequences(X, maxlen=673, padding='post')\n",
    "Y_pad = pad_sequences(Y, maxlen=673, padding='post')\n",
    "sample_weights = np.ones((1, m))\n",
    "for i in xrange(len(X)):\n",
    "    for j in xrange(m):\n",
    "        if (X_pad[i][j] == np.zeros(12)).all():\n",
    "            sample_weights[i][j] = 0\n",
    "Y_prediction = model.predict_classes(X_pad, batch_size=1)"
   ]
  },
  {
   "cell_type": "code",
   "execution_count": null,
   "metadata": {},
   "outputs": [],
   "source": [
    "np.argwhere(Y_pad)[:,2]"
   ]
  },
  {
   "cell_type": "code",
   "execution_count": null,
   "metadata": {},
   "outputs": [],
   "source": [
    "Y_prediction[:101]"
   ]
  },
  {
   "cell_type": "code",
   "execution_count": null,
   "metadata": {},
   "outputs": [],
   "source": [
    "for w in model.get_weights():\n",
    "    if len(w.shape) > 1:\n",
    "        plt.figure()\n",
    "        plt.imshow(w)"
   ]
  },
  {
   "cell_type": "code",
   "execution_count": null,
   "metadata": {},
   "outputs": [],
   "source": [
    "count = 0\n",
    "for y in Y_prediction:\n",
    "    if sum(y) > 0:\n",
    "        count += 1\n",
    "        print sum(y)\n",
    "print count"
   ]
  },
  {
   "cell_type": "code",
   "execution_count": null,
   "metadata": {},
   "outputs": [],
   "source": [
    "hist.history"
   ]
  },
  {
   "cell_type": "code",
   "execution_count": null,
   "metadata": {},
   "outputs": [],
   "source": [
    "import cPickle\n",
    "with open('test.pkl', 'w') as f:\n",
    "    test = 100, hist\n",
    "    cPickle.dump(test, f)"
   ]
  },
  {
   "cell_type": "code",
   "execution_count": null,
   "metadata": {},
   "outputs": [],
   "source": [
    "with open('test.pkl', 'r') as f:\n",
    "    test = cPickle.load(f)"
   ]
  },
  {
   "cell_type": "code",
   "execution_count": null,
   "metadata": {
    "collapsed": true
   },
   "outputs": [],
   "source": []
  }
 ],
 "metadata": {
  "kernelspec": {
   "display_name": "Python 2",
   "language": "python",
   "name": "python2"
  },
  "language_info": {
   "codemirror_mode": {
    "name": "ipython",
    "version": 2
   },
   "file_extension": ".py",
   "mimetype": "text/x-python",
   "name": "python",
   "nbconvert_exporter": "python",
   "pygments_lexer": "ipython2",
   "version": "2.7.5"
  }
 },
 "nbformat": 4,
 "nbformat_minor": 1
}
