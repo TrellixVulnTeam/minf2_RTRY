{
 "cells": [
  {
   "cell_type": "code",
   "execution_count": 1,
   "metadata": {
    "collapsed": false
   },
   "outputs": [
    {
     "name": "stderr",
     "output_type": "stream",
     "text": [
      "Using TensorFlow backend.\n"
     ]
    }
   ],
   "source": [
    "import keras\n",
    "from keras.layers import LSTM\n",
    "import numpy as np"
   ]
  },
  {
   "cell_type": "code",
   "execution_count": 2,
   "metadata": {
    "collapsed": true
   },
   "outputs": [],
   "source": [
    "from kp_data_loader import KPDataLoader"
   ]
  },
  {
   "cell_type": "code",
   "execution_count": 3,
   "metadata": {
    "collapsed": false
   },
   "outputs": [],
   "source": [
    "# Get data again just in case I messed up somewhere\n",
    "loader = KPDataLoader()\n",
    "for i in range(1,46):\n",
    "    loader.load_file('ex{0}a.mid.csv'.format(i))\n",
    "X, Y, m = loader.get_XX_and_YY()"
   ]
  },
  {
   "cell_type": "code",
   "execution_count": 4,
   "metadata": {
    "collapsed": false
   },
   "outputs": [
    {
     "data": {
      "text/plain": [
       "673"
      ]
     },
     "execution_count": 4,
     "metadata": {},
     "output_type": "execute_result"
    }
   ],
   "source": [
    "from keras.preprocessing.sequence import pad_sequences\n",
    "m"
   ]
  },
  {
   "cell_type": "code",
   "execution_count": 5,
   "metadata": {
    "collapsed": false
   },
   "outputs": [],
   "source": [
    "X_pad = pad_sequences(X, maxlen=m, padding='post')\n",
    "Y_pad = pad_sequences(Y, maxlen=m, padding='post')\n",
    "perm = np.random.permutation(len(X_pad))\n",
    "X_pad = X_pad[perm]\n",
    "Y_pad = Y_pad[perm]"
   ]
  },
  {
   "cell_type": "code",
   "execution_count": 6,
   "metadata": {
    "collapsed": false
   },
   "outputs": [],
   "source": [
    "sample_weights = np.ones((45, m))\n",
    "for i in xrange(len(X)):\n",
    "    for j in xrange(m):\n",
    "        if (X_pad[i][j] == np.zeros(12)).all():\n",
    "            sample_weights[i][j] = 0"
   ]
  },
  {
   "cell_type": "code",
   "execution_count": 7,
   "metadata": {
    "collapsed": true
   },
   "outputs": [],
   "source": [
    "from keras.models import Sequential"
   ]
  },
  {
   "cell_type": "code",
   "execution_count": 8,
   "metadata": {
    "collapsed": true
   },
   "outputs": [],
   "source": [
    "model = Sequential()"
   ]
  },
  {
   "cell_type": "code",
   "execution_count": 9,
   "metadata": {
    "collapsed": true
   },
   "outputs": [],
   "source": [
    "from keras.layers import Dense\n",
    "from keras.layers import Masking\n",
    "from keras.layers import Dropout\n",
    "from keras.layers.wrappers import TimeDistributed"
   ]
  },
  {
   "cell_type": "code",
   "execution_count": 10,
   "metadata": {
    "collapsed": true
   },
   "outputs": [],
   "source": [
    "from keras.layers import Embedding"
   ]
  },
  {
   "cell_type": "code",
   "execution_count": 11,
   "metadata": {
    "collapsed": false
   },
   "outputs": [],
   "source": [
    "mask = np.zeros(12)\n",
    "model.add(Masking(mask_value=mask, input_shape=(m, 12)))\n",
    "model.add(LSTM(50, return_sequences=True, dropout_W=0.4, dropout_U=0.4))\n",
    "model.add(TimeDistributed(Dense(12, activation=\"softmax\")))"
   ]
  },
  {
   "cell_type": "code",
   "execution_count": 12,
   "metadata": {
    "collapsed": true
   },
   "outputs": [],
   "source": [
    "from keras.utils.np_utils import to_categorical"
   ]
  },
  {
   "cell_type": "code",
   "execution_count": 13,
   "metadata": {
    "collapsed": true
   },
   "outputs": [],
   "source": [
    "model.compile(optimizer='rmsprop',\n",
    "              loss='categorical_crossentropy',\n",
    "              sample_weight_mode='temporal')"
   ]
  },
  {
   "cell_type": "code",
   "execution_count": 14,
   "metadata": {
    "collapsed": true
   },
   "outputs": [],
   "source": [
    "n = len(X)\n",
    "j = int(n - (float(n) * 0.5))\n",
    "X_train, X_test = X_pad[:j, :], X_pad[j:, :]"
   ]
  },
  {
   "cell_type": "code",
   "execution_count": 15,
   "metadata": {
    "collapsed": true
   },
   "outputs": [],
   "source": [
    "Y_train, Y_test = Y_pad[:j, :], Y_pad[j:, :]"
   ]
  },
  {
   "cell_type": "code",
   "execution_count": 16,
   "metadata": {
    "collapsed": true
   },
   "outputs": [],
   "source": [
    "sample_weights_train, sample_weights_test = sample_weights[:j, :], sample_weights[j:, :]"
   ]
  },
  {
   "cell_type": "code",
   "execution_count": null,
   "metadata": {
    "collapsed": false
   },
   "outputs": [],
   "source": [
    "# # for custom metrics\n",
    "import numpy as K\n",
    "\n",
    "# def weighted_accuracy(y_true, y_pred):\n",
    "#     score_array *= sample_weights\n",
    "# score_array /= K.mean(K.cast(K.not_equal(weights, 0), K.floatx()))\n",
    "\n",
    "def weighted_accuracy(y_true, y_pred):\n",
    "    # Only for testing\n",
    "#     score_array = K.equal(K.argmax(y_true, axis=-1),\n",
    "#                           K.argmax(y_pred, axis=-1))\n",
    "#     score_array *= weights\n",
    "#     score_array /= K.mean(K.cast(K.not_equal(weights, 0), K.floatx()))\n",
    "#     return K.mean(score_array)\n",
    "    total = 0.0\n",
    "    count = 0.0\n",
    "    for i, y_i in enumerate(y_true):\n",
    "        for j, y_ij in enumerate(y_i):\n",
    "            if sum(y_ij) > 0:\n",
    "                total += y_ij[y_pred[i][j]]\n",
    "                count += 1\n",
    "    return total / count"
   ]
  },
  {
   "cell_type": "code",
   "execution_count": null,
   "metadata": {
    "collapsed": false
   },
   "outputs": [
    {
     "name": "stdout",
     "output_type": "stream",
     "text": [
      "INFO:tensorflow:Summary name lstm_1_W_i:0 is illegal; using lstm_1_W_i_0 instead.\n",
      "Summary name lstm_1_W_i:0 is illegal; using lstm_1_W_i_0 instead.\n",
      "INFO:tensorflow:Summary name lstm_1_W_i:0 is illegal; using lstm_1_W_i_0 instead.\n",
      "Summary name lstm_1_W_i:0 is illegal; using lstm_1_W_i_0 instead.\n",
      "INFO:tensorflow:Summary name lstm_1_U_i:0 is illegal; using lstm_1_U_i_0 instead.\n",
      "Summary name lstm_1_U_i:0 is illegal; using lstm_1_U_i_0 instead.\n",
      "INFO:tensorflow:Summary name lstm_1_U_i:0 is illegal; using lstm_1_U_i_0 instead.\n",
      "Summary name lstm_1_U_i:0 is illegal; using lstm_1_U_i_0 instead.\n",
      "INFO:tensorflow:Summary name lstm_1_b_i:0 is illegal; using lstm_1_b_i_0 instead.\n",
      "Summary name lstm_1_b_i:0 is illegal; using lstm_1_b_i_0 instead.\n",
      "INFO:tensorflow:Summary name lstm_1_b_i:0 is illegal; using lstm_1_b_i_0 instead.\n",
      "Summary name lstm_1_b_i:0 is illegal; using lstm_1_b_i_0 instead.\n",
      "INFO:tensorflow:Summary name lstm_1_W_c:0 is illegal; using lstm_1_W_c_0 instead.\n",
      "Summary name lstm_1_W_c:0 is illegal; using lstm_1_W_c_0 instead.\n",
      "INFO:tensorflow:Summary name lstm_1_W_c:0 is illegal; using lstm_1_W_c_0 instead.\n",
      "Summary name lstm_1_W_c:0 is illegal; using lstm_1_W_c_0 instead.\n",
      "INFO:tensorflow:Summary name lstm_1_U_c:0 is illegal; using lstm_1_U_c_0 instead.\n",
      "Summary name lstm_1_U_c:0 is illegal; using lstm_1_U_c_0 instead.\n",
      "INFO:tensorflow:Summary name lstm_1_U_c:0 is illegal; using lstm_1_U_c_0 instead.\n",
      "Summary name lstm_1_U_c:0 is illegal; using lstm_1_U_c_0 instead.\n",
      "INFO:tensorflow:Summary name lstm_1_b_c:0 is illegal; using lstm_1_b_c_0 instead.\n",
      "Summary name lstm_1_b_c:0 is illegal; using lstm_1_b_c_0 instead.\n",
      "INFO:tensorflow:Summary name lstm_1_b_c:0 is illegal; using lstm_1_b_c_0 instead.\n",
      "Summary name lstm_1_b_c:0 is illegal; using lstm_1_b_c_0 instead.\n",
      "INFO:tensorflow:Summary name lstm_1_W_f:0 is illegal; using lstm_1_W_f_0 instead.\n",
      "Summary name lstm_1_W_f:0 is illegal; using lstm_1_W_f_0 instead.\n",
      "INFO:tensorflow:Summary name lstm_1_W_f:0 is illegal; using lstm_1_W_f_0 instead.\n",
      "Summary name lstm_1_W_f:0 is illegal; using lstm_1_W_f_0 instead.\n",
      "INFO:tensorflow:Summary name lstm_1_U_f:0 is illegal; using lstm_1_U_f_0 instead.\n",
      "Summary name lstm_1_U_f:0 is illegal; using lstm_1_U_f_0 instead.\n",
      "INFO:tensorflow:Summary name lstm_1_U_f:0 is illegal; using lstm_1_U_f_0 instead.\n",
      "Summary name lstm_1_U_f:0 is illegal; using lstm_1_U_f_0 instead.\n",
      "INFO:tensorflow:Summary name lstm_1_b_f:0 is illegal; using lstm_1_b_f_0 instead.\n",
      "Summary name lstm_1_b_f:0 is illegal; using lstm_1_b_f_0 instead.\n",
      "INFO:tensorflow:Summary name lstm_1_b_f:0 is illegal; using lstm_1_b_f_0 instead.\n",
      "Summary name lstm_1_b_f:0 is illegal; using lstm_1_b_f_0 instead.\n",
      "INFO:tensorflow:Summary name lstm_1_W_o:0 is illegal; using lstm_1_W_o_0 instead.\n",
      "Summary name lstm_1_W_o:0 is illegal; using lstm_1_W_o_0 instead.\n",
      "INFO:tensorflow:Summary name lstm_1_W_o:0 is illegal; using lstm_1_W_o_0 instead.\n",
      "Summary name lstm_1_W_o:0 is illegal; using lstm_1_W_o_0 instead.\n",
      "INFO:tensorflow:Summary name lstm_1_U_o:0 is illegal; using lstm_1_U_o_0 instead.\n",
      "Summary name lstm_1_U_o:0 is illegal; using lstm_1_U_o_0 instead.\n",
      "INFO:tensorflow:Summary name lstm_1_U_o:0 is illegal; using lstm_1_U_o_0 instead.\n",
      "Summary name lstm_1_U_o:0 is illegal; using lstm_1_U_o_0 instead.\n",
      "INFO:tensorflow:Summary name lstm_1_b_o:0 is illegal; using lstm_1_b_o_0 instead.\n",
      "Summary name lstm_1_b_o:0 is illegal; using lstm_1_b_o_0 instead.\n",
      "INFO:tensorflow:Summary name lstm_1_b_o:0 is illegal; using lstm_1_b_o_0 instead.\n",
      "Summary name lstm_1_b_o:0 is illegal; using lstm_1_b_o_0 instead.\n",
      "INFO:tensorflow:Summary name dense_1_W:0 is illegal; using dense_1_W_0 instead.\n",
      "Summary name dense_1_W:0 is illegal; using dense_1_W_0 instead.\n",
      "INFO:tensorflow:Summary name dense_1_W:0 is illegal; using dense_1_W_0 instead.\n",
      "Summary name dense_1_W:0 is illegal; using dense_1_W_0 instead.\n",
      "INFO:tensorflow:Summary name dense_1_b:0 is illegal; using dense_1_b_0 instead.\n",
      "Summary name dense_1_b:0 is illegal; using dense_1_b_0 instead.\n",
      "INFO:tensorflow:Summary name dense_1_b:0 is illegal; using dense_1_b_0 instead.\n",
      "Summary name dense_1_b:0 is illegal; using dense_1_b_0 instead.\n",
      "Epoch 1/500\n",
      "22/22 [==============================] - 1s - loss: 7.9830\n",
      "Epoch 2/500\n",
      "22/22 [==============================] - 1s - loss: 8.0671\n",
      "Epoch 3/500\n",
      "22/22 [==============================] - 1s - loss: 7.8795\n",
      "Epoch 4/500\n",
      "22/22 [==============================] - 1s - loss: 7.8131\n",
      "Epoch 5/500\n",
      "22/22 [==============================] - 1s - loss: 7.9494\n",
      "Epoch 6/500\n",
      "22/22 [==============================] - 1s - loss: 7.7845\n",
      "Epoch 7/500\n",
      "22/22 [==============================] - 1s - loss: 7.7675\n",
      "Epoch 8/500\n",
      "22/22 [==============================] - 1s - loss: 7.6495\n",
      "Epoch 9/500\n",
      "22/22 [==============================] - 1s - loss: 7.6701\n",
      "Epoch 10/500\n",
      "22/22 [==============================] - 1s - loss: 7.6122\n",
      "Epoch 11/500\n",
      "22/22 [==============================] - 1s - loss: 7.5816\n",
      "Epoch 12/500\n",
      "22/22 [==============================] - 1s - loss: 7.4371\n",
      "Epoch 13/500\n",
      "22/22 [==============================] - 1s - loss: 7.5978\n",
      "Epoch 14/500\n",
      "22/22 [==============================] - 1s - loss: 7.2938\n",
      "Epoch 15/500\n",
      "22/22 [==============================] - 1s - loss: 7.3786\n",
      "Epoch 16/500\n",
      "22/22 [==============================] - 1s - loss: 7.3830\n",
      "Epoch 17/500\n",
      "22/22 [==============================] - 1s - loss: 7.3096\n",
      "Epoch 18/500\n",
      "22/22 [==============================] - 1s - loss: 7.3189\n",
      "Epoch 19/500\n",
      "22/22 [==============================] - 1s - loss: 7.4795\n",
      "Epoch 20/500\n",
      "22/22 [==============================] - 1s - loss: 7.4547\n",
      "Epoch 21/500\n",
      "22/22 [==============================] - 1s - loss: 7.3428\n",
      "Epoch 22/500\n",
      "22/22 [==============================] - 1s - loss: 7.3711\n",
      "Epoch 23/500\n",
      "22/22 [==============================] - 1s - loss: 7.2498\n",
      "Epoch 24/500\n",
      "22/22 [==============================] - 1s - loss: 7.2874\n",
      "Epoch 25/500\n",
      "22/22 [==============================] - 1s - loss: 7.3135\n",
      "Epoch 26/500\n",
      "22/22 [==============================] - 1s - loss: 6.9837\n",
      "Epoch 27/500\n",
      "22/22 [==============================] - 1s - loss: 7.1746\n",
      "Epoch 28/500\n",
      "22/22 [==============================] - 1s - loss: 7.0963\n",
      "Epoch 29/500\n",
      "22/22 [==============================] - 1s - loss: 7.1406\n",
      "Epoch 30/500\n",
      "22/22 [==============================] - 1s - loss: 7.2215\n",
      "Epoch 31/500\n",
      "22/22 [==============================] - 1s - loss: 7.1038\n",
      "Epoch 32/500\n",
      "22/22 [==============================] - 1s - loss: 7.1841\n",
      "Epoch 33/500\n",
      "22/22 [==============================] - 1s - loss: 6.9899\n",
      "Epoch 34/500\n",
      "22/22 [==============================] - 1s - loss: 7.1297\n",
      "Epoch 35/500\n",
      "22/22 [==============================] - 2s - loss: 7.1832\n",
      "Epoch 36/500\n",
      "22/22 [==============================] - 1s - loss: 6.9924\n",
      "Epoch 37/500\n",
      "22/22 [==============================] - 2s - loss: 6.9841\n",
      "Epoch 38/500\n",
      "22/22 [==============================] - 1s - loss: 7.1460\n",
      "Epoch 39/500\n",
      "22/22 [==============================] - 1s - loss: 7.1301\n",
      "Epoch 40/500\n",
      "22/22 [==============================] - 1s - loss: 7.0069\n",
      "Epoch 41/500\n",
      "22/22 [==============================] - 1s - loss: 7.0661\n",
      "Epoch 42/500\n",
      "22/22 [==============================] - 1s - loss: 7.0718\n",
      "Epoch 43/500\n",
      "22/22 [==============================] - 1s - loss: 6.9499\n",
      "Epoch 44/500\n",
      "22/22 [==============================] - 1s - loss: 6.9242\n",
      "Epoch 45/500\n",
      "22/22 [==============================] - 1s - loss: 6.8683\n",
      "Epoch 46/500\n",
      "22/22 [==============================] - 1s - loss: 7.1692\n",
      "Epoch 47/500\n",
      "22/22 [==============================] - 1s - loss: 7.0383\n",
      "Epoch 48/500\n",
      "22/22 [==============================] - 1s - loss: 6.7908\n",
      "Epoch 49/500\n",
      "22/22 [==============================] - 1s - loss: 6.9298\n",
      "Epoch 50/500\n",
      "22/22 [==============================] - 2s - loss: 6.8083\n",
      "Epoch 51/500\n",
      "22/22 [==============================] - 1s - loss: 6.7168\n",
      "Epoch 52/500\n",
      "22/22 [==============================] - 1s - loss: 6.9385\n",
      "Epoch 53/500\n",
      "22/22 [==============================] - 1s - loss: 6.9579\n",
      "Epoch 54/500\n",
      "22/22 [==============================] - 1s - loss: 7.0045\n",
      "Epoch 55/500\n",
      "22/22 [==============================] - 1s - loss: 6.7896\n",
      "Epoch 56/500\n",
      "22/22 [==============================] - 1s - loss: 6.9720\n",
      "Epoch 57/500\n",
      "22/22 [==============================] - 1s - loss: 6.9333\n",
      "Epoch 58/500\n"
     ]
    }
   ],
   "source": [
    "hist = model.fit(X_train, Y_train, batch_size=j, nb_epoch=500, sample_weight=sample_weights_train, callbacks=[keras.callbacks.TensorBoard(histogram_freq=10, write_images=True)])"
   ]
  },
  {
   "cell_type": "code",
   "execution_count": null,
   "metadata": {
    "collapsed": false
   },
   "outputs": [],
   "source": [
    "import matplotlib.pyplot as plt\n",
    "%matplotlib inline\n",
    "\n",
    "plt.title('Convergence in training')\n",
    "plt.xlabel('Epochs')\n",
    "plt.ylabel('Cross Entropy Loss')\n",
    "plt.plot(hist.history['loss'])"
   ]
  },
  {
   "cell_type": "code",
   "execution_count": null,
   "metadata": {
    "collapsed": false
   },
   "outputs": [],
   "source": [
    "# Y_prediction = to_categorical(Y_prediction)\n",
    "# weighted_accuracy(Y_test, Y_prediction, sample_weights_test)\n",
    "weighted_accuracy(Y_test, Y_prediction)"
   ]
  },
  {
   "cell_type": "code",
   "execution_count": null,
   "metadata": {
    "collapsed": false
   },
   "outputs": [],
   "source": [
    "model.evaluate(X_test, Y_test, batch_size=20, sample_weight=sample_weights_test)"
   ]
  },
  {
   "cell_type": "code",
   "execution_count": null,
   "metadata": {
    "collapsed": false
   },
   "outputs": [],
   "source": [
    "Y_prediction[0]"
   ]
  },
  {
   "cell_type": "code",
   "execution_count": null,
   "metadata": {
    "collapsed": false
   },
   "outputs": [],
   "source": [
    "loader = KPDataLoader()\n",
    "loader.load_file('ex1a.mid.csv')\n",
    "X, Y, m = loader.get_XX_and_YY()\n",
    "X_pad = pad_sequences(X, maxlen=673, padding='post')\n",
    "Y_pad = pad_sequences(Y, maxlen=673, padding='post')\n",
    "sample_weights = np.ones((1, m))\n",
    "for i in xrange(len(X)):\n",
    "    for j in xrange(m):\n",
    "        if (X_pad[i][j] == np.zeros(12)).all():\n",
    "            sample_weights[i][j] = 0\n",
    "Y_prediction = model.predict_classes(X_pad, batch_size=1)"
   ]
  },
  {
   "cell_type": "code",
   "execution_count": null,
   "metadata": {
    "collapsed": false
   },
   "outputs": [],
   "source": [
    "np.argwhere(Y_pad)[:,2]"
   ]
  },
  {
   "cell_type": "code",
   "execution_count": null,
   "metadata": {
    "collapsed": false
   },
   "outputs": [],
   "source": [
    "Y_prediction[:101]"
   ]
  },
  {
   "cell_type": "code",
   "execution_count": null,
   "metadata": {
    "collapsed": false
   },
   "outputs": [],
   "source": [
    "for w in model.get_weights():\n",
    "    if len(w.shape) > 1:\n",
    "        plt.figure()\n",
    "        plt.imshow(w)"
   ]
  },
  {
   "cell_type": "code",
   "execution_count": null,
   "metadata": {
    "collapsed": false
   },
   "outputs": [],
   "source": [
    "count = 0\n",
    "for y in Y_prediction:\n",
    "    if sum(y) > 0:\n",
    "        count += 1\n",
    "        print sum(y)\n",
    "print count"
   ]
  },
  {
   "cell_type": "code",
   "execution_count": null,
   "metadata": {
    "collapsed": false
   },
   "outputs": [],
   "source": [
    "hist.history"
   ]
  },
  {
   "cell_type": "code",
   "execution_count": null,
   "metadata": {
    "collapsed": false
   },
   "outputs": [],
   "source": [
    "import cPickle\n",
    "with open('test.pkl', 'w') as f:\n",
    "    test = 100, hist\n",
    "    cPickle.dump(test, f)"
   ]
  },
  {
   "cell_type": "code",
   "execution_count": null,
   "metadata": {
    "collapsed": false
   },
   "outputs": [],
   "source": [
    "with open('test.pkl', 'r') as f:\n",
    "    test = cPickle.load(f)"
   ]
  },
  {
   "cell_type": "code",
   "execution_count": null,
   "metadata": {
    "collapsed": true
   },
   "outputs": [],
   "source": []
  }
 ],
 "metadata": {
  "kernelspec": {
   "display_name": "Python 2",
   "language": "python",
   "name": "python2"
  },
  "language_info": {
   "codemirror_mode": {
    "name": "ipython",
    "version": 2
   },
   "file_extension": ".py",
   "mimetype": "text/x-python",
   "name": "python",
   "nbconvert_exporter": "python",
   "pygments_lexer": "ipython2",
   "version": "2.7.12"
  }
 },
 "nbformat": 4,
 "nbformat_minor": 0
}
