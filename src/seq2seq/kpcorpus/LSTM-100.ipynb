{
 "cells": [
  {
   "cell_type": "code",
   "execution_count": 1,
   "metadata": {
    "collapsed": false
   },
   "outputs": [
    {
     "name": "stderr",
     "output_type": "stream",
     "text": [
      "Using TensorFlow backend.\n"
     ]
    }
   ],
   "source": [
    "import keras\n",
    "from keras.layers import LSTM\n",
    "import numpy as np"
   ]
  },
  {
   "cell_type": "code",
   "execution_count": 2,
   "metadata": {
    "collapsed": true
   },
   "outputs": [],
   "source": [
    "from kp_data_loader import KPDataLoader"
   ]
  },
  {
   "cell_type": "code",
   "execution_count": 3,
   "metadata": {
    "collapsed": false
   },
   "outputs": [],
   "source": [
    "# Get data again just in case I messed up somewhere\n",
    "loader = KPDataLoader()\n",
    "for i in range(1,46):\n",
    "    loader.load_file('ex{0}a.mid.csv'.format(i))\n",
    "X, Y, m = loader.get_XX_and_YY()"
   ]
  },
  {
   "cell_type": "code",
   "execution_count": 4,
   "metadata": {
    "collapsed": false
   },
   "outputs": [
    {
     "data": {
      "text/plain": [
       "45"
      ]
     },
     "execution_count": 4,
     "metadata": {},
     "output_type": "execute_result"
    }
   ],
   "source": [
    "from keras.preprocessing.sequence import pad_sequences\n",
    "len(X)"
   ]
  },
  {
   "cell_type": "code",
   "execution_count": 5,
   "metadata": {
    "collapsed": false
   },
   "outputs": [],
   "source": [
    "X_pad = pad_sequences(X, maxlen=m, padding='post')\n",
    "Y_pad = pad_sequences(Y, maxlen=m, padding='post')"
   ]
  },
  {
   "cell_type": "code",
   "execution_count": 6,
   "metadata": {
    "collapsed": false
   },
   "outputs": [],
   "source": [
    "sample_weights = np.ones((45, m))\n",
    "for i in xrange(len(X)):\n",
    "    for j in xrange(m):\n",
    "        if (X_pad[i][j] == np.zeros(12)).all():\n",
    "            sample_weights[i][j] = 0"
   ]
  },
  {
   "cell_type": "code",
   "execution_count": 7,
   "metadata": {
    "collapsed": true
   },
   "outputs": [],
   "source": [
    "from keras.models import Sequential"
   ]
  },
  {
   "cell_type": "code",
   "execution_count": 8,
   "metadata": {
    "collapsed": true
   },
   "outputs": [],
   "source": [
    "model = Sequential()"
   ]
  },
  {
   "cell_type": "code",
   "execution_count": 9,
   "metadata": {
    "collapsed": true
   },
   "outputs": [],
   "source": [
    "from keras.layers import Dense\n",
    "from keras.layers import Masking\n",
    "from keras.layers import Dropout\n",
    "from keras.layers.wrappers import TimeDistributed"
   ]
  },
  {
   "cell_type": "code",
   "execution_count": 10,
   "metadata": {
    "collapsed": true
   },
   "outputs": [],
   "source": [
    "from keras.layers import Embedding"
   ]
  },
  {
   "cell_type": "code",
   "execution_count": 11,
   "metadata": {
    "collapsed": false
   },
   "outputs": [],
   "source": [
    "mask = np.zeros(12)\n",
    "model.add(Masking(mask_value=mask, input_shape=(m, 12)))\n",
    "model.add(LSTM(100, return_sequences=True, dropout_W=0.1, dropout_U=0.1))\n",
    "model.add(TimeDistributed(Dense(12, activation=\"softmax\")))"
   ]
  },
  {
   "cell_type": "code",
   "execution_count": 12,
   "metadata": {
    "collapsed": true
   },
   "outputs": [],
   "source": [
    "from keras.utils.np_utils import to_categorical"
   ]
  },
  {
   "cell_type": "code",
   "execution_count": 13,
   "metadata": {
    "collapsed": true
   },
   "outputs": [],
   "source": [
    "model.compile(optimizer='rmsprop',\n",
    "              loss='categorical_crossentropy',\n",
    "              sample_weight_mode='temporal')"
   ]
  },
  {
   "cell_type": "code",
   "execution_count": 14,
   "metadata": {
    "collapsed": true
   },
   "outputs": [],
   "source": [
    "n = len(X)\n",
    "j = int(n - (float(n) * 0.5))\n",
    "X_train, X_test = X_pad[:j, :], X_pad[j:, :]"
   ]
  },
  {
   "cell_type": "code",
   "execution_count": 15,
   "metadata": {
    "collapsed": true
   },
   "outputs": [],
   "source": [
    "Y_train, Y_test = Y_pad[:j, :], Y_pad[j:, :]"
   ]
  },
  {
   "cell_type": "code",
   "execution_count": 16,
   "metadata": {
    "collapsed": true
   },
   "outputs": [],
   "source": [
    "sample_weights_train, sample_weights_test = sample_weights[:j, :], sample_weights[j:, :]"
   ]
  },
  {
   "cell_type": "code",
   "execution_count": null,
   "metadata": {
    "collapsed": false
   },
   "outputs": [],
   "source": [
    "# # for custom metrics\n",
    "import numpy as K\n",
    "\n",
    "# def weighted_accuracy(y_true, y_pred):\n",
    "#     score_array *= sample_weights\n",
    "# score_array /= K.mean(K.cast(K.not_equal(weights, 0), K.floatx()))\n",
    "\n",
    "def weighted_accuracy(y_true, y_pred):\n",
    "    # Only for testing\n",
    "#     score_array = K.equal(K.argmax(y_true, axis=-1),\n",
    "#                           K.argmax(y_pred, axis=-1))\n",
    "#     score_array *= weights\n",
    "#     score_array /= K.mean(K.cast(K.not_equal(weights, 0), K.floatx()))\n",
    "#     return K.mean(score_array)\n",
    "    total = 0.0\n",
    "    count = 0.0\n",
    "    for i, y_i in enumerate(y_true):\n",
    "        for j, y_ij in enumerate(y_i):\n",
    "            if sum(y_ij) > 0:\n",
    "                total += y_ij[y_pred[i][j]]\n",
    "                count += 1\n",
    "    return total / count"
   ]
  },
  {
   "cell_type": "code",
   "execution_count": null,
   "metadata": {
    "collapsed": false
   },
   "outputs": [
    {
     "name": "stdout",
     "output_type": "stream",
     "text": [
      "Epoch 1/500\n",
      "22/22 [==============================] - 3s - loss: 11.2706\n",
      "Epoch 2/500\n",
      "22/22 [==============================] - 2s - loss: 10.9754\n",
      "Epoch 3/500\n",
      "22/22 [==============================] - 2s - loss: 10.8378\n",
      "Epoch 4/500\n",
      "22/22 [==============================] - 1s - loss: 10.6313\n",
      "Epoch 5/500\n",
      "22/22 [==============================] - 2s - loss: 10.3894\n",
      "Epoch 6/500\n",
      "22/22 [==============================] - 2s - loss: 10.0544\n",
      "Epoch 7/500\n",
      "22/22 [==============================] - 2s - loss: 9.9548\n",
      "Epoch 8/500\n",
      "22/22 [==============================] - 2s - loss: 9.7874\n",
      "Epoch 9/500\n",
      "22/22 [==============================] - 2s - loss: 9.9817\n",
      "Epoch 10/500\n",
      "22/22 [==============================] - 2s - loss: 9.9655\n",
      "Epoch 11/500\n",
      "22/22 [==============================] - 2s - loss: 9.6551\n",
      "Epoch 12/500\n",
      "22/22 [==============================] - 2s - loss: 9.4070\n",
      "Epoch 13/500\n",
      "22/22 [==============================] - 2s - loss: 9.2175\n",
      "Epoch 14/500\n",
      "22/22 [==============================] - 2s - loss: 9.4595\n",
      "Epoch 15/500\n",
      "22/22 [==============================] - 1s - loss: 9.4730\n",
      "Epoch 16/500\n",
      "22/22 [==============================] - 2s - loss: 9.2372\n",
      "Epoch 17/500\n",
      "22/22 [==============================] - 2s - loss: 9.2716\n",
      "Epoch 18/500\n",
      "22/22 [==============================] - 1s - loss: 9.4743\n",
      "Epoch 19/500\n",
      "22/22 [==============================] - 1s - loss: 9.2282\n",
      "Epoch 20/500\n",
      "22/22 [==============================] - 1s - loss: 8.9827\n",
      "Epoch 21/500\n",
      "22/22 [==============================] - 1s - loss: 9.0711\n",
      "Epoch 22/500\n",
      "22/22 [==============================] - 1s - loss: 9.0288\n",
      "Epoch 23/500\n",
      "22/22 [==============================] - 1s - loss: 8.9511\n",
      "Epoch 24/500\n",
      "22/22 [==============================] - 1s - loss: 8.8474\n",
      "Epoch 25/500\n",
      "22/22 [==============================] - 2s - loss: 8.9099\n",
      "Epoch 26/500\n",
      "22/22 [==============================] - 2s - loss: 8.7944\n",
      "Epoch 27/500\n",
      "22/22 [==============================] - 1s - loss: 9.2230\n",
      "Epoch 28/500\n",
      "22/22 [==============================] - 2s - loss: 9.0107\n",
      "Epoch 29/500\n",
      "22/22 [==============================] - 1s - loss: 8.8609\n",
      "Epoch 30/500\n",
      "22/22 [==============================] - 1s - loss: 8.7464\n",
      "Epoch 31/500\n",
      "22/22 [==============================] - 1s - loss: 8.5840\n",
      "Epoch 32/500\n"
     ]
    }
   ],
   "source": [
    "model.fit(X_train, Y_train, batch_size=j, nb_epoch=500, sample_weight=sample_weights_train)"
   ]
  },
  {
   "cell_type": "code",
   "execution_count": null,
   "metadata": {
    "collapsed": false
   },
   "outputs": [],
   "source": [
    "Y_prediction = model.predict_classes(X_test, batch_size=5)"
   ]
  },
  {
   "cell_type": "code",
   "execution_count": null,
   "metadata": {
    "collapsed": false
   },
   "outputs": [],
   "source": [
    "# Y_prediction = to_categorical(Y_prediction)\n",
    "# weighted_accuracy(Y_test, Y_prediction, sample_weights_test)\n",
    "weighted_accuracy(Y_test, Y_prediction)"
   ]
  },
  {
   "cell_type": "code",
   "execution_count": null,
   "metadata": {
    "collapsed": false
   },
   "outputs": [],
   "source": [
    "model.evaluate(X_test, Y_test, batch_size=20, sample_weight=sample_weights_test)"
   ]
  },
  {
   "cell_type": "code",
   "execution_count": null,
   "metadata": {
    "collapsed": false
   },
   "outputs": [],
   "source": [
    "Y_prediction[0]"
   ]
  },
  {
   "cell_type": "code",
   "execution_count": null,
   "metadata": {
    "collapsed": false
   },
   "outputs": [],
   "source": [
    "Y_prediction.shape"
   ]
  },
  {
   "cell_type": "code",
   "execution_count": null,
   "metadata": {
    "collapsed": true
   },
   "outputs": [],
   "source": [
    "import matplotlib.pyplot as plt\n",
    "%matplotlib inline"
   ]
  },
  {
   "cell_type": "code",
   "execution_count": null,
   "metadata": {
    "collapsed": false
   },
   "outputs": [],
   "source": [
    "len(model.get_weights())"
   ]
  },
  {
   "cell_type": "code",
   "execution_count": null,
   "metadata": {
    "collapsed": false
   },
   "outputs": [],
   "source": [
    "for w in model.get_weights():\n",
    "    if len(w.shape) > 1:\n",
    "        plt.figure()\n",
    "        plt.imshow(w)"
   ]
  },
  {
   "cell_type": "code",
   "execution_count": null,
   "metadata": {
    "collapsed": false
   },
   "outputs": [],
   "source": [
    "count = 0\n",
    "for y in Y_prediction:\n",
    "    if sum(y) > 0:\n",
    "        count += 1\n",
    "        print sum(y)\n",
    "print count"
   ]
  },
  {
   "cell_type": "code",
   "execution_count": null,
   "metadata": {
    "collapsed": true
   },
   "outputs": [],
   "source": []
  }
 ],
 "metadata": {
  "kernelspec": {
   "display_name": "Python 2",
   "language": "python",
   "name": "python2"
  },
  "language_info": {
   "codemirror_mode": {
    "name": "ipython",
    "version": 2
   },
   "file_extension": ".py",
   "mimetype": "text/x-python",
   "name": "python",
   "nbconvert_exporter": "python",
   "pygments_lexer": "ipython2",
   "version": "2.7.12"
  }
 },
 "nbformat": 4,
 "nbformat_minor": 0
}
