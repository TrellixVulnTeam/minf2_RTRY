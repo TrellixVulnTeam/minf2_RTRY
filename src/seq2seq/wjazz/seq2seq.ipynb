{
 "cells": [
  {
   "cell_type": "code",
   "execution_count": 2,
   "metadata": {
    "collapsed": false
   },
   "outputs": [
    {
     "name": "stderr",
     "output_type": "stream",
     "text": [
      "Using TensorFlow backend.\n"
     ]
    }
   ],
   "source": [
    "import keras\n",
    "from keras.layers import LSTM\n",
    "import numpy as np"
   ]
  },
  {
   "cell_type": "code",
   "execution_count": 3,
   "metadata": {
    "collapsed": true
   },
   "outputs": [],
   "source": [
    "import data_loader as dl"
   ]
  },
  {
   "cell_type": "code",
   "execution_count": 4,
   "metadata": {
    "collapsed": false
   },
   "outputs": [],
   "source": [
    "data = dl.DataLoader()"
   ]
  },
  {
   "cell_type": "code",
   "execution_count": 5,
   "metadata": {
    "collapsed": true
   },
   "outputs": [],
   "source": [
    "X, Y, m = data.load()"
   ]
  },
  {
   "cell_type": "code",
   "execution_count": 6,
   "metadata": {
    "collapsed": false
   },
   "outputs": [],
   "source": [
    "from keras.preprocessing.sequence import pad_sequences"
   ]
  },
  {
   "cell_type": "code",
   "execution_count": 7,
   "metadata": {
    "collapsed": false
   },
   "outputs": [],
   "source": [
    "X_pad = pad_sequences(X, maxlen=m, padding='post')\n",
    "Y_pad = pad_sequences(Y, maxlen=m, padding='post')"
   ]
  },
  {
   "cell_type": "code",
   "execution_count": 8,
   "metadata": {
    "collapsed": false
   },
   "outputs": [],
   "source": [
    "sample_weights = np.ones((273, m))\n",
    "for i in xrange(273):\n",
    "    for j in xrange(m):\n",
    "        if (X_pad[i][j] == np.zeros(12)).all():\n",
    "            sample_weights[i][j] = 0"
   ]
  },
  {
   "cell_type": "code",
   "execution_count": 11,
   "metadata": {
    "collapsed": false
   },
   "outputs": [],
   "source": [
    "from seq2seq.models import SimpleSeq2Seq\n",
    "\n",
    "model = SimpleSeq2Seq(input_dim=12, hidden_dim=10, output_length=m, output_dim=12)"
   ]
  },
  {
   "cell_type": "code",
   "execution_count": 12,
   "metadata": {
    "collapsed": false
   },
   "outputs": [],
   "source": [
    "model.compile(optimizer='rmsprop',\n",
    "              loss='categorical_crossentropy',\n",
    "              sample_weight_mode='temporal')"
   ]
  },
  {
   "cell_type": "code",
   "execution_count": 13,
   "metadata": {
    "collapsed": true
   },
   "outputs": [],
   "source": [
    "X_train, X_test = X_pad[:136, :], X_pad[136:, :]"
   ]
  },
  {
   "cell_type": "code",
   "execution_count": 14,
   "metadata": {
    "collapsed": true
   },
   "outputs": [],
   "source": [
    "Y_train, Y_test = Y_pad[:136, :], Y_pad[136:, :]"
   ]
  },
  {
   "cell_type": "code",
   "execution_count": 15,
   "metadata": {
    "collapsed": true
   },
   "outputs": [],
   "source": [
    "sample_weights_train, sample_weights_test = sample_weights[:136, :], sample_weights[136:, :]"
   ]
  },
  {
   "cell_type": "code",
   "execution_count": 16,
   "metadata": {
    "collapsed": false
   },
   "outputs": [],
   "source": [
    "# # for custom metrics\n",
    "import numpy as K\n",
    "\n",
    "# def weighted_accuracy(y_true, y_pred):\n",
    "#     score_array *= sample_weights\n",
    "# score_array /= K.mean(K.cast(K.not_equal(weights, 0), K.floatx()))\n",
    "\n",
    "def weighted_accuracy(y_true, y_pred):\n",
    "    # Only for testing\n",
    "#     score_array = K.equal(K.argmax(y_true, axis=-1),\n",
    "#                           K.argmax(y_pred, axis=-1))\n",
    "#     score_array *= weights\n",
    "#     score_array /= K.mean(K.cast(K.not_equal(weights, 0), K.floatx()))\n",
    "#     return K.mean(score_array)\n",
    "    total = 0.0\n",
    "    count = 0.0\n",
    "    for i, y_i in enumerate(y_true):\n",
    "        for j, y_ij in enumerate(y_i):\n",
    "            if sum(y_ij) > 0:\n",
    "                total += y_ij[y_pred[i][j]]\n",
    "                count += 1\n",
    "    return total / count\n",
    "    "
   ]
  },
  {
   "cell_type": "code",
   "execution_count": 18,
   "metadata": {
    "collapsed": false
   },
   "outputs": [
    {
     "name": "stdout",
     "output_type": "stream",
     "text": [
      "Epoch 1/50\n",
      "136/136 [==============================] - 19s - loss: 1.1921e-07\n",
      "Epoch 2/50\n",
      "136/136 [==============================] - 19s - loss: 1.1921e-07\n",
      "Epoch 3/50\n",
      "136/136 [==============================] - 19s - loss: 1.1921e-07\n",
      "Epoch 4/50\n",
      "136/136 [==============================] - 19s - loss: 1.1921e-07\n",
      "Epoch 5/50\n",
      "136/136 [==============================] - 19s - loss: 1.1921e-07\n",
      "Epoch 6/50\n",
      "136/136 [==============================] - 23s - loss: 1.1921e-07\n",
      "Epoch 7/50\n",
      "136/136 [==============================] - 21s - loss: 1.1921e-07\n",
      "Epoch 8/50\n",
      "136/136 [==============================] - 19s - loss: 1.1921e-07\n",
      "Epoch 9/50\n",
      "136/136 [==============================] - 19s - loss: 1.1921e-07\n",
      "Epoch 10/50\n",
      "136/136 [==============================] - 20s - loss: 1.1921e-07\n",
      "Epoch 11/50\n",
      "136/136 [==============================] - 18s - loss: 1.1921e-07\n",
      "Epoch 12/50\n",
      "136/136 [==============================] - 19s - loss: 1.1921e-07\n",
      "Epoch 13/50\n",
      "136/136 [==============================] - 22s - loss: 1.1921e-07\n",
      "Epoch 14/50\n",
      "136/136 [==============================] - 21s - loss: 1.1921e-07\n",
      "Epoch 15/50\n",
      "136/136 [==============================] - 21s - loss: 1.1921e-07\n",
      "Epoch 16/50\n",
      "136/136 [==============================] - 18s - loss: 1.1921e-07\n",
      "Epoch 17/50\n",
      "136/136 [==============================] - 20s - loss: 1.1921e-07\n",
      "Epoch 18/50\n",
      "136/136 [==============================] - 19s - loss: 1.1921e-07\n",
      "Epoch 19/50\n",
      "136/136 [==============================] - 18s - loss: 1.1921e-07\n",
      "Epoch 20/50\n",
      "136/136 [==============================] - 18s - loss: 1.1921e-07\n",
      "Epoch 21/50\n",
      "136/136 [==============================] - 19s - loss: 1.1921e-07\n",
      "Epoch 22/50\n",
      "136/136 [==============================] - 24s - loss: 1.1921e-07\n",
      "Epoch 23/50\n",
      "136/136 [==============================] - 19s - loss: 1.1921e-07\n",
      "Epoch 24/50\n",
      "136/136 [==============================] - 23s - loss: 1.1921e-07\n",
      "Epoch 25/50\n",
      "136/136 [==============================] - 19s - loss: 1.1921e-07\n",
      "Epoch 26/50\n",
      "136/136 [==============================] - 24s - loss: 1.1921e-07\n",
      "Epoch 27/50\n",
      "136/136 [==============================] - 27s - loss: 1.1921e-07\n",
      "Epoch 28/50\n",
      "136/136 [==============================] - 26s - loss: 1.1921e-07\n",
      "Epoch 29/50\n",
      "136/136 [==============================] - 21s - loss: 1.1921e-07\n",
      "Epoch 30/50\n",
      "136/136 [==============================] - 23s - loss: 1.1921e-07\n",
      "Epoch 31/50\n",
      "136/136 [==============================] - 18s - loss: 1.1921e-07\n",
      "Epoch 32/50\n",
      "136/136 [==============================] - 19s - loss: 1.1921e-07\n",
      "Epoch 33/50\n",
      "136/136 [==============================] - 20s - loss: 1.1921e-07\n",
      "Epoch 34/50\n",
      "136/136 [==============================] - 18s - loss: 1.1921e-07\n",
      "Epoch 35/50\n",
      "136/136 [==============================] - 18s - loss: 1.1921e-07\n",
      "Epoch 36/50\n",
      "136/136 [==============================] - 19s - loss: 1.1921e-07\n",
      "Epoch 37/50\n",
      "136/136 [==============================] - 25s - loss: 1.1921e-07\n",
      "Epoch 38/50\n",
      "136/136 [==============================] - 24s - loss: 1.1921e-07\n",
      "Epoch 39/50\n",
      "136/136 [==============================] - 22s - loss: 1.1921e-07\n",
      "Epoch 40/50\n",
      "136/136 [==============================] - 19s - loss: 1.1921e-07\n",
      "Epoch 41/50\n",
      "136/136 [==============================] - 23s - loss: 1.1921e-07\n",
      "Epoch 42/50\n",
      "136/136 [==============================] - 21s - loss: 1.1921e-07\n",
      "Epoch 43/50\n",
      "136/136 [==============================] - 20s - loss: 1.1921e-07\n",
      "Epoch 44/50\n",
      "136/136 [==============================] - 24s - loss: 1.1921e-07\n",
      "Epoch 45/50\n",
      "136/136 [==============================] - 19s - loss: 1.1921e-07\n",
      "Epoch 46/50\n",
      "136/136 [==============================] - 22s - loss: 1.1921e-07\n",
      "Epoch 47/50\n",
      "136/136 [==============================] - 20s - loss: 1.1921e-07\n",
      "Epoch 48/50\n",
      "136/136 [==============================] - 18s - loss: 1.1921e-07\n",
      "Epoch 49/50\n",
      "136/136 [==============================] - 18s - loss: 1.1921e-07\n",
      "Epoch 50/50\n",
      "136/136 [==============================] - 18s - loss: 1.1921e-07\n"
     ]
    }
   ],
   "source": [
    "hist = model.fit(X_train, Y_train, batch_size=136, nb_epoch=50, sample_weight=sample_weights_train)"
   ]
  },
  {
   "cell_type": "code",
   "execution_count": 19,
   "metadata": {
    "collapsed": false
   },
   "outputs": [
    {
     "name": "stdout",
     "output_type": "stream",
     "text": [
      "137/137 [==============================] - 100s   \n"
     ]
    }
   ],
   "source": [
    "Y_prediction = model.predict_classes(X_test, batch_size=5)"
   ]
  },
  {
   "cell_type": "code",
   "execution_count": 21,
   "metadata": {
    "collapsed": false
   },
   "outputs": [
    {
     "data": {
      "text/plain": [
       "0.413776216690871"
      ]
     },
     "execution_count": 21,
     "metadata": {},
     "output_type": "execute_result"
    }
   ],
   "source": [
    "# Y_prediction = to_categorical(Y_prediction)\n",
    "# weighted_accuracy(Y_test, Y_prediction, sample_weights_test)\n",
    "weighted_accuracy(Y_test, Y_prediction)"
   ]
  },
  {
   "cell_type": "code",
   "execution_count": 22,
   "metadata": {
    "collapsed": false
   },
   "outputs": [
    {
     "name": "stdout",
     "output_type": "stream",
     "text": [
      "137/137 [==============================] - 2s\n"
     ]
    },
    {
     "data": {
      "text/plain": [
       "1.1922705311917525e-07"
      ]
     },
     "execution_count": 22,
     "metadata": {},
     "output_type": "execute_result"
    }
   ],
   "source": [
    "model.evaluate(X_test, Y_test, batch_size=137, sample_weight=sample_weights_test)"
   ]
  },
  {
   "cell_type": "code",
   "execution_count": null,
   "metadata": {
    "collapsed": false
   },
   "outputs": [],
   "source": [
    "Y_prediction[0]"
   ]
  },
  {
   "cell_type": "code",
   "execution_count": null,
   "metadata": {
    "collapsed": false
   },
   "outputs": [],
   "source": [
    "Y_prediction.shape"
   ]
  },
  {
   "cell_type": "code",
   "execution_count": null,
   "metadata": {
    "collapsed": true
   },
   "outputs": [],
   "source": [
    "import matplotlib.pyplot as plt\n",
    "%matplotlib inline"
   ]
  },
  {
   "cell_type": "code",
   "execution_count": null,
   "metadata": {
    "collapsed": false
   },
   "outputs": [],
   "source": [
    "len(model.get_weights())"
   ]
  },
  {
   "cell_type": "code",
   "execution_count": null,
   "metadata": {
    "collapsed": false
   },
   "outputs": [],
   "source": [
    "for w in model.get_weights():\n",
    "    if len(w.shape) > 1:\n",
    "        plt.figure()\n",
    "        plt.imshow(w)"
   ]
  },
  {
   "cell_type": "code",
   "execution_count": 23,
   "metadata": {
    "collapsed": false
   },
   "outputs": [
    {
     "name": "stdout",
     "output_type": "stream",
     "text": [
      "0\n"
     ]
    }
   ],
   "source": [
    "count = 0\n",
    "for y in Y_prediction:\n",
    "    if sum(y) > 0:\n",
    "        count += 1\n",
    "        print sum(y)\n",
    "print count"
   ]
  },
  {
   "cell_type": "code",
   "execution_count": 25,
   "metadata": {
    "collapsed": false
   },
   "outputs": [
    {
     "data": {
      "text/plain": [
       "0"
      ]
     },
     "execution_count": 25,
     "metadata": {},
     "output_type": "execute_result"
    }
   ],
   "source": [
    "sum(sum(Y_prediction))"
   ]
  },
  {
   "cell_type": "code",
   "execution_count": null,
   "metadata": {
    "collapsed": true
   },
   "outputs": [],
   "source": []
  }
 ],
 "metadata": {
  "kernelspec": {
   "display_name": "Python 2",
   "language": "python",
   "name": "python2"
  },
  "language_info": {
   "codemirror_mode": {
    "name": "ipython",
    "version": 2
   },
   "file_extension": ".py",
   "mimetype": "text/x-python",
   "name": "python",
   "nbconvert_exporter": "python",
   "pygments_lexer": "ipython2",
   "version": "2.7.12"
  }
 },
 "nbformat": 4,
 "nbformat_minor": 1
}
