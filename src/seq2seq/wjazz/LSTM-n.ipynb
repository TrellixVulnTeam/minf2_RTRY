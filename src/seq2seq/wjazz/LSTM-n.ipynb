{
 "cells": [
  {
   "cell_type": "code",
   "execution_count": 1,
   "metadata": {
    "collapsed": false
   },
   "outputs": [
    {
     "name": "stderr",
     "output_type": "stream",
     "text": [
      "Using TensorFlow backend.\n"
     ]
    }
   ],
   "source": [
    "import keras\n",
    "from keras.layers import LSTM\n",
    "import numpy as np\n",
    "import cPickle"
   ]
  },
  {
   "cell_type": "code",
   "execution_count": 2,
   "metadata": {
    "collapsed": true
   },
   "outputs": [],
   "source": [
    "import data_loader as dl"
   ]
  },
  {
   "cell_type": "code",
   "execution_count": 3,
   "metadata": {
    "collapsed": false
   },
   "outputs": [],
   "source": [
    "data = dl.DataLoader()"
   ]
  },
  {
   "cell_type": "code",
   "execution_count": 4,
   "metadata": {
    "collapsed": true
   },
   "outputs": [],
   "source": [
    "X, Y, m = data.load()"
   ]
  },
  {
   "cell_type": "code",
   "execution_count": 5,
   "metadata": {
    "collapsed": false
   },
   "outputs": [],
   "source": [
    "from keras.preprocessing.sequence import pad_sequences"
   ]
  },
  {
   "cell_type": "code",
   "execution_count": 6,
   "metadata": {
    "collapsed": false
   },
   "outputs": [],
   "source": [
    "X_pad = pad_sequences(X, maxlen=m, padding='post')\n",
    "Y_pad = pad_sequences(Y, maxlen=m, padding='post')"
   ]
  },
  {
   "cell_type": "code",
   "execution_count": 7,
   "metadata": {
    "collapsed": false
   },
   "outputs": [],
   "source": [
    "sample_weights = np.ones((273, m))\n",
    "for i in xrange(273):\n",
    "    for j in xrange(m):\n",
    "        if (X_pad[i][j] == np.zeros(12)).all():\n",
    "            sample_weights[i][j] = 0"
   ]
  },
  {
   "cell_type": "code",
   "execution_count": 8,
   "metadata": {
    "collapsed": true
   },
   "outputs": [],
   "source": [
    "from keras.models import Sequential"
   ]
  },
  {
   "cell_type": "code",
   "execution_count": 9,
   "metadata": {
    "collapsed": true
   },
   "outputs": [],
   "source": [
    "model = Sequential()"
   ]
  },
  {
   "cell_type": "code",
   "execution_count": 10,
   "metadata": {
    "collapsed": true
   },
   "outputs": [],
   "source": [
    "from keras.layers import Dense\n",
    "from keras.layers import Masking\n",
    "from keras.layers import Dropout\n",
    "from keras.layers.wrappers import TimeDistributed\n",
    "from keras.utils.np_utils import to_categorical"
   ]
  },
  {
   "cell_type": "code",
   "execution_count": null,
   "metadata": {
    "collapsed": true
   },
   "outputs": [],
   "source": [
    "from keras.layers import Embedding"
   ]
  },
  {
   "cell_type": "code",
   "execution_count": null,
   "metadata": {
    "collapsed": false
   },
   "outputs": [
    {
     "name": "stdout",
     "output_type": "stream",
     "text": [
      "Epoch 1/20\n"
     ]
    }
   ],
   "source": [
    "accuracies = dict()\n",
    "\n",
    "for i in range(1, 200, 10):\n",
    "\n",
    "    mask = np.zeros(12)\n",
    "    model.add(Masking(mask_value=mask, input_shape=(m, 12)))\n",
    "    model.add(LSTM(i, return_sequences=True, dropout_W=0.1, dropout_U=0.1))\n",
    "    model.add(TimeDistributed(Dense(12, activation=\"softmax\")))\n",
    "\n",
    "    model.compile(optimizer='rmsprop',\n",
    "                  loss='categorical_crossentropy',\n",
    "                  sample_weight_mode='temporal')\n",
    "\n",
    "    X_train, X_test = X_pad[:136, :], X_pad[136:, :]\n",
    "    Y_train, Y_test = Y_pad[:136, :], Y_pad[136:, :]\n",
    "    sample_weights_train, sample_weights_test = sample_weights[:136, :], sample_weights[136:, :]\n",
    "\n",
    "    # # for custom metrics\n",
    "    import numpy as K\n",
    "\n",
    "    # def weighted_accuracy(y_true, y_pred):\n",
    "    #     score_array *= sample_weights\n",
    "    # score_array /= K.mean(K.cast(K.not_equal(weights, 0), K.floatx()))\n",
    "\n",
    "    def weighted_accuracy(y_true, y_pred):\n",
    "        # Only for testing\n",
    "    #     score_array = K.equal(K.argmax(y_true, axis=-1),\n",
    "    #                           K.argmax(y_pred, axis=-1))\n",
    "    #     score_array *= weights\n",
    "    #     score_array /= K.mean(K.cast(K.not_equal(weights, 0), K.floatx()))\n",
    "    #     return K.mean(score_array)\n",
    "        total = 0.0\n",
    "        count = 0.0\n",
    "        for i, y_i in enumerate(y_true):\n",
    "            for j, y_ij in enumerate(y_i):\n",
    "                if sum(y_ij) > 0:\n",
    "                    total += y_ij[y_pred[i][j]]\n",
    "                    count += 1\n",
    "        return total / count\n",
    "\n",
    "    history = model.fit(X_train, Y_train, batch_size=136, nb_epoch=20, sample_weight=sample_weights_train)\n",
    "    Y_prediction = model.predict_classes(X_test, batch_size=5)\n",
    "    accuracies[i] = weighted_accuracy(Y_test, Y_prediction), history\n",
    "    \n",
    "with open('LSTM-n.pkl', 'w') as f:\n",
    "    cPickle.dump(accuracies, f)"
   ]
  },
  {
   "cell_type": "code",
   "execution_count": null,
   "metadata": {
    "collapsed": true
   },
   "outputs": [],
   "source": []
  }
 ],
 "metadata": {
  "kernelspec": {
   "display_name": "Python 2",
   "language": "python",
   "name": "python2"
  },
  "language_info": {
   "codemirror_mode": {
    "name": "ipython",
    "version": 2
   },
   "file_extension": ".py",
   "mimetype": "text/x-python",
   "name": "python",
   "nbconvert_exporter": "python",
   "pygments_lexer": "ipython2",
   "version": "2.7.12"
  }
 },
 "nbformat": 4,
 "nbformat_minor": 0
}
