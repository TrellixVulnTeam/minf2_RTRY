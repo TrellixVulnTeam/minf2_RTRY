{
 "cells": [
  {
   "cell_type": "code",
   "execution_count": 1,
   "metadata": {
    "collapsed": false
   },
   "outputs": [
    {
     "name": "stderr",
     "output_type": "stream",
     "text": [
      "Using TensorFlow backend.\n"
     ]
    }
   ],
   "source": [
    "import keras\n",
    "from keras.layers import AtrousConv1D, Conv1D, LSTM\n",
    "import numpy as np"
   ]
  },
  {
   "cell_type": "code",
   "execution_count": 2,
   "metadata": {
    "collapsed": true
   },
   "outputs": [],
   "source": [
    "import data_loader as dl"
   ]
  },
  {
   "cell_type": "code",
   "execution_count": 3,
   "metadata": {
    "collapsed": false
   },
   "outputs": [],
   "source": [
    "data = dl.DataLoader()"
   ]
  },
  {
   "cell_type": "code",
   "execution_count": 4,
   "metadata": {
    "collapsed": true
   },
   "outputs": [],
   "source": [
    "X, Y, m = data.load()"
   ]
  },
  {
   "cell_type": "code",
   "execution_count": 5,
   "metadata": {
    "collapsed": false
   },
   "outputs": [],
   "source": [
    "from keras.preprocessing.sequence import pad_sequences"
   ]
  },
  {
   "cell_type": "code",
   "execution_count": 6,
   "metadata": {
    "collapsed": false
   },
   "outputs": [],
   "source": [
    "X_pad = pad_sequences(X, maxlen=m, padding='post')\n",
    "Y_pad = pad_sequences(Y, maxlen=m, padding='post')"
   ]
  },
  {
   "cell_type": "code",
   "execution_count": 7,
   "metadata": {
    "collapsed": false
   },
   "outputs": [],
   "source": [
    "sample_weights = np.ones((273, m))\n",
    "for i in xrange(273):\n",
    "    for j in xrange(m):\n",
    "        if (X_pad[i][j] == np.zeros(12)).all():\n",
    "            sample_weights[i][j] = 0"
   ]
  },
  {
   "cell_type": "code",
   "execution_count": 8,
   "metadata": {
    "collapsed": true
   },
   "outputs": [],
   "source": [
    "from keras.models import Sequential"
   ]
  },
  {
   "cell_type": "code",
   "execution_count": 9,
   "metadata": {
    "collapsed": true
   },
   "outputs": [],
   "source": [
    "model = Sequential()"
   ]
  },
  {
   "cell_type": "code",
   "execution_count": 10,
   "metadata": {
    "collapsed": true
   },
   "outputs": [],
   "source": [
    "from keras.layers import Dense\n",
    "from keras.layers import Masking\n",
    "from keras.layers.wrappers import TimeDistributed"
   ]
  },
  {
   "cell_type": "code",
   "execution_count": 11,
   "metadata": {
    "collapsed": true
   },
   "outputs": [],
   "source": [
    "from keras.layers import Embedding"
   ]
  },
  {
   "cell_type": "code",
   "execution_count": 12,
   "metadata": {
    "collapsed": false
   },
   "outputs": [],
   "source": [
    "mask = np.zeros(12)\n",
    "# model.add(Masking(mask_value=mask, input_shape=(m, 12)))\n",
    "model.add(Conv1D(100, 5, border_mode='same', input_shape=(m, 12)))\n",
    "model.add(Conv1D(50, 5, border_mode='same'))\n",
    "model.add(Conv1D(25, 5, border_mode='same'))\n",
    "model.add(Conv1D(12, 5, border_mode='same'))\n",
    "model.add(LSTM(10, return_sequences=True))\n",
    "model.add(TimeDistributed(Dense(12, activation=\"softmax\")))"
   ]
  },
  {
   "cell_type": "code",
   "execution_count": 13,
   "metadata": {
    "collapsed": true
   },
   "outputs": [],
   "source": [
    "from keras.utils.np_utils import to_categorical"
   ]
  },
  {
   "cell_type": "code",
   "execution_count": 14,
   "metadata": {
    "collapsed": true
   },
   "outputs": [],
   "source": [
    "model.compile(optimizer='rmsprop',\n",
    "              loss='categorical_crossentropy',\n",
    "              sample_weight_mode='temporal')"
   ]
  },
  {
   "cell_type": "code",
   "execution_count": 15,
   "metadata": {
    "collapsed": true
   },
   "outputs": [],
   "source": [
    "X_train, X_test = X_pad[:136, :], X_pad[136:, :]"
   ]
  },
  {
   "cell_type": "code",
   "execution_count": 16,
   "metadata": {
    "collapsed": true
   },
   "outputs": [],
   "source": [
    "Y_train, Y_test = Y_pad[:136, :], Y_pad[136:, :]"
   ]
  },
  {
   "cell_type": "code",
   "execution_count": 17,
   "metadata": {
    "collapsed": true
   },
   "outputs": [],
   "source": [
    "sample_weights_train, sample_weights_test = sample_weights[:136, :], sample_weights[136:, :]"
   ]
  },
  {
   "cell_type": "code",
   "execution_count": 18,
   "metadata": {
    "collapsed": false
   },
   "outputs": [],
   "source": [
    "# # for custom metrics\n",
    "import numpy as K\n",
    "\n",
    "# def weighted_accuracy(y_true, y_pred):\n",
    "#     score_array *= sample_weights\n",
    "# score_array /= K.mean(K.cast(K.not_equal(weights, 0), K.floatx()))\n",
    "\n",
    "def weighted_accuracy(y_true, y_pred):\n",
    "    # Only for testing\n",
    "#     score_array = K.equal(K.argmax(y_true, axis=-1),\n",
    "#                           K.argmax(y_pred, axis=-1))\n",
    "#     score_array *= weights\n",
    "#     score_array /= K.mean(K.cast(K.not_equal(weights, 0), K.floatx()))\n",
    "#     return K.mean(score_array)\n",
    "    total = 0.0\n",
    "    count = 0.0\n",
    "    for i, y_i in enumerate(y_true):\n",
    "        for j, y_ij in enumerate(y_i):\n",
    "            if sum(y_ij) > 0:\n",
    "                total += y_ij[y_pred[i][j]]\n",
    "                count += 1\n",
    "    return total / count"
   ]
  },
  {
   "cell_type": "code",
   "execution_count": 19,
   "metadata": {
    "collapsed": false
   },
   "outputs": [
    {
     "data": {
      "text/plain": [
       "<keras.layers.convolutional.Convolution1D at 0x1324dd710>"
      ]
     },
     "execution_count": 19,
     "metadata": {},
     "output_type": "execute_result"
    }
   ],
   "source": [
    "model.layers[1]"
   ]
  },
  {
   "cell_type": "code",
   "execution_count": 20,
   "metadata": {
    "collapsed": false
   },
   "outputs": [
    {
     "name": "stdout",
     "output_type": "stream",
     "text": [
      "Epoch 1/100\n",
      "136/136 [==============================] - 21s - loss: 2.4851\n",
      "Epoch 2/100\n",
      "136/136 [==============================] - 21s - loss: 2.4760\n",
      "Epoch 3/100\n",
      "136/136 [==============================] - 20s - loss: 2.4477\n",
      "Epoch 4/100\n",
      "136/136 [==============================] - 20s - loss: 2.4182\n",
      "Epoch 5/100\n",
      "136/136 [==============================] - 20s - loss: 2.3884\n",
      "Epoch 6/100\n",
      "136/136 [==============================] - 19s - loss: 2.3698\n",
      "Epoch 7/100\n",
      "136/136 [==============================] - 20s - loss: 2.3508\n",
      "Epoch 8/100\n",
      "136/136 [==============================] - 22s - loss: 2.3313\n",
      "Epoch 9/100\n",
      "136/136 [==============================] - 27s - loss: 2.3085\n",
      "Epoch 10/100\n",
      "136/136 [==============================] - 21s - loss: 2.2987\n",
      "Epoch 11/100\n",
      "136/136 [==============================] - 22s - loss: 2.2906\n",
      "Epoch 12/100\n",
      "136/136 [==============================] - 21s - loss: 2.2892\n",
      "Epoch 13/100\n",
      "136/136 [==============================] - 21s - loss: 2.2696\n",
      "Epoch 14/100\n",
      "136/136 [==============================] - 20s - loss: 2.2624\n",
      "Epoch 15/100\n",
      "136/136 [==============================] - 20s - loss: 2.2549\n",
      "Epoch 16/100\n",
      "136/136 [==============================] - 20s - loss: 2.2479\n",
      "Epoch 17/100\n",
      "136/136 [==============================] - 25s - loss: 2.2405\n",
      "Epoch 18/100\n",
      "136/136 [==============================] - 21s - loss: 2.2353\n",
      "Epoch 19/100\n",
      "136/136 [==============================] - 21s - loss: 2.2315\n",
      "Epoch 20/100\n",
      "136/136 [==============================] - 21s - loss: 2.2284\n",
      "Epoch 21/100\n",
      "136/136 [==============================] - 21s - loss: 2.2247\n",
      "Epoch 22/100\n",
      "136/136 [==============================] - 19s - loss: 2.2195\n",
      "Epoch 23/100\n",
      "136/136 [==============================] - 20s - loss: 2.2147\n",
      "Epoch 24/100\n",
      "136/136 [==============================] - 20s - loss: 2.2109\n",
      "Epoch 25/100\n",
      "136/136 [==============================] - 19s - loss: 2.2080\n",
      "Epoch 26/100\n",
      "136/136 [==============================] - 20s - loss: 2.2040\n",
      "Epoch 27/100\n",
      "136/136 [==============================] - 19s - loss: 2.2003\n",
      "Epoch 28/100\n",
      "136/136 [==============================] - 24s - loss: 2.1973\n",
      "Epoch 29/100\n",
      "136/136 [==============================] - 38s - loss: 2.1929\n",
      "Epoch 30/100\n",
      "136/136 [==============================] - 35s - loss: 2.1893\n",
      "Epoch 31/100\n",
      "136/136 [==============================] - 20s - loss: 2.1861\n",
      "Epoch 32/100\n",
      "136/136 [==============================] - 19s - loss: 2.1836\n",
      "Epoch 33/100\n",
      "136/136 [==============================] - 19s - loss: 2.1798\n",
      "Epoch 34/100\n",
      "136/136 [==============================] - 23s - loss: 2.1771\n",
      "Epoch 35/100\n",
      "136/136 [==============================] - 25s - loss: 2.1875\n",
      "Epoch 36/100\n",
      "136/136 [==============================] - 23s - loss: 2.1840\n",
      "Epoch 37/100\n",
      "136/136 [==============================] - 25s - loss: 2.1748\n",
      "Epoch 38/100\n",
      "136/136 [==============================] - 26s - loss: 2.1709\n",
      "Epoch 39/100\n",
      "136/136 [==============================] - 21s - loss: 2.1678\n",
      "Epoch 40/100\n",
      "136/136 [==============================] - 21s - loss: 2.1647\n",
      "Epoch 41/100\n",
      "136/136 [==============================] - 19s - loss: 2.1615\n",
      "Epoch 42/100\n",
      "136/136 [==============================] - 19s - loss: 2.1589\n",
      "Epoch 43/100\n",
      "136/136 [==============================] - 19s - loss: 2.1563\n",
      "Epoch 44/100\n",
      "136/136 [==============================] - 19s - loss: 2.1537\n",
      "Epoch 45/100\n",
      "136/136 [==============================] - 19s - loss: 2.1512\n",
      "Epoch 46/100\n",
      "136/136 [==============================] - 19s - loss: 2.1486\n",
      "Epoch 47/100\n",
      "136/136 [==============================] - 19s - loss: 2.1459\n",
      "Epoch 48/100\n",
      "136/136 [==============================] - 19s - loss: 2.1433\n",
      "Epoch 49/100\n",
      "136/136 [==============================] - 19s - loss: 2.1413\n",
      "Epoch 50/100\n",
      "136/136 [==============================] - 19s - loss: 2.1397\n",
      "Epoch 51/100\n",
      "136/136 [==============================] - 19s - loss: 2.1385\n",
      "Epoch 52/100\n",
      "136/136 [==============================] - 19s - loss: 2.1354\n",
      "Epoch 53/100\n",
      "136/136 [==============================] - 19s - loss: 2.1328\n",
      "Epoch 54/100\n",
      "136/136 [==============================] - 19s - loss: 2.1302\n",
      "Epoch 55/100\n",
      "136/136 [==============================] - 19s - loss: 2.1279\n",
      "Epoch 56/100\n",
      "136/136 [==============================] - 19s - loss: 2.1257\n",
      "Epoch 57/100\n",
      "136/136 [==============================] - 19s - loss: 2.1236\n",
      "Epoch 58/100\n",
      "136/136 [==============================] - 19s - loss: 2.1214\n",
      "Epoch 59/100\n",
      "136/136 [==============================] - 19s - loss: 2.1201\n",
      "Epoch 60/100\n",
      "136/136 [==============================] - 19s - loss: 2.1186\n",
      "Epoch 61/100\n",
      "136/136 [==============================] - 19s - loss: 2.1211\n",
      "Epoch 62/100\n",
      "136/136 [==============================] - 19s - loss: 2.1145\n",
      "Epoch 63/100\n",
      "136/136 [==============================] - 20s - loss: 2.1110\n",
      "Epoch 64/100\n",
      "136/136 [==============================] - 20s - loss: 2.1087\n",
      "Epoch 65/100\n",
      "136/136 [==============================] - 19s - loss: 2.1095\n",
      "Epoch 66/100\n",
      "136/136 [==============================] - 19s - loss: 2.1082\n",
      "Epoch 67/100\n",
      "136/136 [==============================] - 19s - loss: 2.1059\n",
      "Epoch 68/100\n",
      "136/136 [==============================] - 19s - loss: 2.1022\n",
      "Epoch 69/100\n",
      "136/136 [==============================] - 20s - loss: 2.0999\n",
      "Epoch 70/100\n",
      "136/136 [==============================] - 28s - loss: 2.1009\n",
      "Epoch 71/100\n",
      "136/136 [==============================] - 33s - loss: 2.0951\n",
      "Epoch 72/100\n",
      "136/136 [==============================] - 29s - loss: 2.0910\n",
      "Epoch 73/100\n",
      "136/136 [==============================] - 41s - loss: 2.0954\n",
      "Epoch 74/100\n",
      "136/136 [==============================] - 44s - loss: 2.0919\n",
      "Epoch 75/100\n",
      "136/136 [==============================] - 28s - loss: 2.0973\n",
      "Epoch 76/100\n",
      "136/136 [==============================] - 19s - loss: 2.0891\n",
      "Epoch 77/100\n",
      "136/136 [==============================] - 19s - loss: 2.0831\n",
      "Epoch 78/100\n",
      "136/136 [==============================] - 19s - loss: 2.0799\n",
      "Epoch 79/100\n",
      "136/136 [==============================] - 19s - loss: 2.0781\n",
      "Epoch 80/100\n",
      "136/136 [==============================] - 19s - loss: 2.0782\n",
      "Epoch 81/100\n",
      "136/136 [==============================] - 19s - loss: 2.0827\n",
      "Epoch 82/100\n",
      "136/136 [==============================] - 19s - loss: 2.0833\n",
      "Epoch 83/100\n",
      "136/136 [==============================] - 19s - loss: 2.0866\n",
      "Epoch 84/100\n",
      "136/136 [==============================] - 20s - loss: 2.0723\n",
      "Epoch 85/100\n",
      "136/136 [==============================] - 42s - loss: 2.0701\n",
      "Epoch 86/100\n",
      "136/136 [==============================] - 32s - loss: 2.0705\n",
      "Epoch 87/100\n",
      "136/136 [==============================] - 39s - loss: 2.0758\n",
      "Epoch 88/100\n",
      "136/136 [==============================] - 44s - loss: 2.0696\n",
      "Epoch 89/100\n",
      "136/136 [==============================] - 47s - loss: 2.0679\n",
      "Epoch 90/100\n",
      "136/136 [==============================] - 39s - loss: 2.0677\n",
      "Epoch 91/100\n",
      "136/136 [==============================] - 20s - loss: 2.0747\n",
      "Epoch 92/100\n",
      "136/136 [==============================] - 19s - loss: 2.0711\n",
      "Epoch 93/100\n",
      "136/136 [==============================] - 19s - loss: 2.0700\n",
      "Epoch 94/100\n",
      "136/136 [==============================] - 19s - loss: 2.0626\n",
      "Epoch 95/100\n",
      "136/136 [==============================] - 19s - loss: 2.0616\n",
      "Epoch 96/100\n",
      "136/136 [==============================] - 19s - loss: 2.0604\n",
      "Epoch 97/100\n",
      "136/136 [==============================] - 19s - loss: 2.0619\n",
      "Epoch 98/100\n",
      "136/136 [==============================] - 19s - loss: 2.0605\n",
      "Epoch 99/100\n",
      "136/136 [==============================] - 20s - loss: 2.0638\n",
      "Epoch 100/100\n",
      "136/136 [==============================] - 19s - loss: 2.0578\n"
     ]
    }
   ],
   "source": [
    "hist = model.fit(X_train, Y_train, batch_size=136, nb_epoch=100, sample_weight=sample_weights_train)"
   ]
  },
  {
   "cell_type": "code",
   "execution_count": 21,
   "metadata": {
    "collapsed": false
   },
   "outputs": [
    {
     "name": "stdout",
     "output_type": "stream",
     "text": [
      "137/137 [==============================] - 52s    \n"
     ]
    }
   ],
   "source": [
    "Y_prediction = model.predict_classes(X_test, batch_size=5)"
   ]
  },
  {
   "cell_type": "code",
   "execution_count": 22,
   "metadata": {
    "collapsed": false
   },
   "outputs": [
    {
     "data": {
      "text/plain": [
       "0.40619406261609647"
      ]
     },
     "execution_count": 22,
     "metadata": {},
     "output_type": "execute_result"
    }
   ],
   "source": [
    "# Y_prediction = to_categorical(Y_prediction)\n",
    "# weighted_accuracy(Y_test, Y_prediction, sample_weights_test)\n",
    "weighted_accuracy(Y_test, Y_prediction)"
   ]
  },
  {
   "cell_type": "code",
   "execution_count": 23,
   "metadata": {
    "collapsed": false
   },
   "outputs": [
    {
     "name": "stdout",
     "output_type": "stream",
     "text": [
      "137/137 [==============================] - 5s\n"
     ]
    },
    {
     "data": {
      "text/plain": [
       "1.9258359670639038"
      ]
     },
     "execution_count": 23,
     "metadata": {},
     "output_type": "execute_result"
    }
   ],
   "source": [
    "model.evaluate(X_test, Y_test, batch_size=137, sample_weight=sample_weights_test)"
   ]
  },
  {
   "cell_type": "code",
   "execution_count": 24,
   "metadata": {
    "collapsed": false
   },
   "outputs": [
    {
     "data": {
      "text/plain": [
       "array([0, 0, 0, ..., 0, 0, 0])"
      ]
     },
     "execution_count": 24,
     "metadata": {},
     "output_type": "execute_result"
    }
   ],
   "source": [
    "Y_prediction[0]"
   ]
  },
  {
   "cell_type": "code",
   "execution_count": 25,
   "metadata": {
    "collapsed": false
   },
   "outputs": [
    {
     "data": {
      "text/plain": [
       "(137, 4954)"
      ]
     },
     "execution_count": 25,
     "metadata": {},
     "output_type": "execute_result"
    }
   ],
   "source": [
    "Y_prediction.shape"
   ]
  },
  {
   "cell_type": "code",
   "execution_count": 26,
   "metadata": {
    "collapsed": true
   },
   "outputs": [],
   "source": [
    "import matplotlib.pyplot as plt\n",
    "%matplotlib inline"
   ]
  },
  {
   "cell_type": "code",
   "execution_count": 27,
   "metadata": {
    "collapsed": false
   },
   "outputs": [
    {
     "data": {
      "text/plain": [
       "22"
      ]
     },
     "execution_count": 27,
     "metadata": {},
     "output_type": "execute_result"
    }
   ],
   "source": [
    "len(model.get_weights())"
   ]
  },
  {
   "cell_type": "code",
   "execution_count": 28,
   "metadata": {
    "collapsed": false
   },
   "outputs": [
    {
     "name": "stdout",
     "output_type": "stream",
     "text": [
      "300\n",
      "433\n",
      "92\n",
      "545\n",
      "585\n",
      "114\n",
      "3962\n",
      "1683\n",
      "169\n",
      "317\n",
      "192\n",
      "275\n",
      "51\n",
      "2\n",
      "84\n",
      "140\n",
      "29\n",
      "79\n",
      "55\n",
      "40\n",
      "685\n",
      "20\n",
      "85\n",
      "90\n",
      "76\n",
      "366\n",
      "92\n",
      "335\n",
      "50\n",
      "60\n",
      "52\n",
      "28\n",
      "258\n",
      "84\n",
      "32\n",
      "52\n",
      "346\n",
      "631\n",
      "290\n",
      "73\n",
      "540\n",
      "761\n",
      "659\n",
      "20\n",
      "46\n",
      "266\n",
      "106\n",
      "218\n",
      "260\n",
      "35\n",
      "47\n",
      "12\n",
      "2358\n",
      "155\n",
      "182\n",
      "68\n",
      "57\n",
      "50\n",
      "377\n",
      "20\n",
      "70\n",
      "50\n",
      "384\n",
      "132\n",
      "32\n",
      "94\n",
      "24\n",
      "340\n",
      "117\n",
      "8\n",
      "29\n",
      "42\n",
      "40\n",
      "18\n",
      "8\n",
      "118\n",
      "12\n",
      "450\n",
      "138\n",
      "44\n",
      "70\n",
      "557\n",
      "76\n",
      "26\n",
      "16\n",
      "205\n",
      "203\n",
      "115\n",
      "608\n",
      "65\n",
      "58\n",
      "38\n",
      "4\n",
      "14\n",
      "8\n",
      "19\n",
      "87\n",
      "93\n",
      "20\n",
      "45\n",
      "911\n",
      "388\n",
      "235\n",
      "24\n",
      "561\n",
      "137\n",
      "58\n",
      "250\n",
      "46\n",
      "97\n",
      "40\n",
      "52\n",
      "112\n"
     ]
    }
   ],
   "source": [
    "count = 0\n",
    "for y in Y_prediction:\n",
    "    if sum(y) > 0:\n",
    "        count += 1\n",
    "        print sum(y)\n",
    "print count"
   ]
  },
  {
   "cell_type": "code",
   "execution_count": null,
   "metadata": {
    "collapsed": true
   },
   "outputs": [],
   "source": []
  }
 ],
 "metadata": {
  "kernelspec": {
   "display_name": "Python 2",
   "language": "python",
   "name": "python2"
  },
  "language_info": {
   "codemirror_mode": {
    "name": "ipython",
    "version": 2
   },
   "file_extension": ".py",
   "mimetype": "text/x-python",
   "name": "python",
   "nbconvert_exporter": "python",
   "pygments_lexer": "ipython2",
   "version": "2.7.12"
  }
 },
 "nbformat": 4,
 "nbformat_minor": 0
}
