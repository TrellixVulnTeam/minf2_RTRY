{
 "cells": [
  {
   "cell_type": "code",
   "execution_count": 1,
   "metadata": {
    "collapsed": false
   },
   "outputs": [],
   "source": [
    "\n",
    "%matplotlib inline\n",
    "\n",
    "import numpy as np\n",
    "import tensorflow as tf\n",
    "from tensorflow.contrib.rnn import LSTMCell, GRUCell\n",
    "from model_new import Seq2SeqModel, train_on_copy_task\n",
    "import pandas as pd\n",
    "import helpers\n",
    "\n",
    "import warnings\n",
    "warnings.filterwarnings(\"ignore\")"
   ]
  },
  {
   "cell_type": "code",
   "execution_count": 2,
   "metadata": {
    "collapsed": false
   },
   "outputs": [
    {
     "data": {
      "text/plain": [
       "'1.0.0-rc2'"
      ]
     },
     "execution_count": 2,
     "metadata": {},
     "output_type": "execute_result"
    }
   ],
   "source": [
    "tf.__version__"
   ]
  },
  {
   "cell_type": "code",
   "execution_count": 3,
   "metadata": {
    "collapsed": false
   },
   "outputs": [
    {
     "name": "stdout",
     "output_type": "stream",
     "text": [
      "batch 0\n",
      "  minibatch loss: 2.31395506859\n",
      "  sample 1:\n",
      "    enc input           > [6 9 9 5 6 4 0 0]\n",
      "    dec train predicted > [9 9 1 1 1 1 1 0 0]\n",
      "  sample 2:\n",
      "    enc input           > [7 4 2 8 0 0 0 0]\n",
      "    dec train predicted > [4 4 4 5 5 0 0 0 0]\n",
      "  sample 3:\n",
      "    enc input           > [2 5 6 9 8 2 3 0]\n",
      "    dec train predicted > [4 5 5 5 1 7 5 5 0]\n",
      "()\n",
      "batch 1000\n",
      "  minibatch loss: 0.298472225666\n",
      "  sample 1:\n",
      "    enc input           > [5 9 6 8 0 0 0 0]\n",
      "    dec train predicted > [5 9 6 8 1 0 0 0 0]\n",
      "  sample 2:\n",
      "    enc input           > [9 9 5 3 5 0 0 0]\n",
      "    dec train predicted > [9 9 5 3 5 1 0 0 0]\n",
      "  sample 3:\n",
      "    enc input           > [3 3 8 2 7 0 0 0]\n",
      "    dec train predicted > [3 3 8 2 7 1 0 0 0]\n",
      "()\n",
      "batch 2000\n",
      "  minibatch loss: 0.0939356982708\n",
      "  sample 1:\n",
      "    enc input           > [7 7 7 2 9 4 3 0]\n",
      "    dec train predicted > [7 7 7 2 9 4 3 1 0]\n",
      "  sample 2:\n",
      "    enc input           > [4 2 6 0 0 0 0 0]\n",
      "    dec train predicted > [4 2 6 1 0 0 0 0 0]\n",
      "  sample 3:\n",
      "    enc input           > [3 9 3 6 8 8 2 4]\n",
      "    dec train predicted > [3 9 3 6 8 8 2 4 1]\n",
      "()\n",
      "batch 3000\n",
      "  minibatch loss: 0.0372924059629\n",
      "  sample 1:\n",
      "    enc input           > [5 3 2 6 6 8 3 3]\n",
      "    dec train predicted > [5 3 2 6 6 8 3 3 1]\n",
      "  sample 2:\n",
      "    enc input           > [9 9 4 5 6 0 0 0]\n",
      "    dec train predicted > [9 9 4 5 6 1 0 0 0]\n",
      "  sample 3:\n",
      "    enc input           > [4 8 5 3 3 0 0 0]\n",
      "    dec train predicted > [4 8 5 3 3 1 0 0 0]\n",
      "()\n"
     ]
    }
   ],
   "source": [
    "tf.reset_default_graph()\n",
    "tf.set_random_seed(1)\n",
    "\n",
    "with tf.Session() as session:\n",
    "\n",
    "    # with bidirectional encoder, decoder state size should be\n",
    "    # 2x encoder state size\n",
    "    model = Seq2SeqModel(encoder_cell=LSTMCell(10),\n",
    "                         decoder_cell=LSTMCell(20), \n",
    "                         vocab_size=10,\n",
    "                         embedding_size=10,\n",
    "                         attention=True,\n",
    "                         bidirectional=True,\n",
    "                         debug=False)\n",
    "\n",
    "    session.run(tf.global_variables_initializer())\n",
    "\n",
    "    train_on_copy_task(session, model,\n",
    "                       length_from=3, length_to=8,\n",
    "                       vocab_lower=2, vocab_upper=10,\n",
    "                       batch_size=100,\n",
    "                       max_batches=3000,\n",
    "                       batches_in_epoch=1000,\n",
    "                       verbose=True)"
   ]
  },
  {
   "cell_type": "code",
   "execution_count": null,
   "metadata": {
    "collapsed": true
   },
   "outputs": [],
   "source": []
  }
 ],
 "metadata": {
  "kernelspec": {
   "display_name": "Python 2",
   "language": "python",
   "name": "python2"
  },
  "language_info": {
   "codemirror_mode": {
    "name": "ipython",
    "version": 2
   },
   "file_extension": ".py",
   "mimetype": "text/x-python",
   "name": "python",
   "nbconvert_exporter": "python",
   "pygments_lexer": "ipython2",
   "version": "2.7.12"
  }
 },
 "nbformat": 4,
 "nbformat_minor": 1
}
