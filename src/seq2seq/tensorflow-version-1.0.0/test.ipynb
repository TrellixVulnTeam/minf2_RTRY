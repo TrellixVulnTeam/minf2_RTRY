{
 "cells": [
  {
   "cell_type": "code",
   "execution_count": 3,
   "metadata": {
    "collapsed": false
   },
   "outputs": [],
   "source": [
    "\n",
    "%matplotlib inline\n",
    "\n",
    "import numpy as np\n",
    "import tensorflow as tf\n",
    "from tensorflow.contrib.rnn import LSTMCell, GRUCell\n",
    "from model_new import Seq2SeqModel, train_on_copy_task\n",
    "import pandas as pd\n",
    "import helpers\n",
    "\n",
    "import warnings\n",
    "warnings.filterwarnings(\"ignore\")"
   ]
  },
  {
   "cell_type": "code",
   "execution_count": 4,
   "metadata": {
    "collapsed": false
   },
   "outputs": [
    {
     "data": {
      "text/plain": [
       "'1.0.0-rc2'"
      ]
     },
     "execution_count": 4,
     "metadata": {},
     "output_type": "execute_result"
    }
   ],
   "source": [
    "tf.__version__"
   ]
  },
  {
   "cell_type": "code",
   "execution_count": 5,
   "metadata": {
    "collapsed": false
   },
   "outputs": [
    {
     "name": "stdout",
     "output_type": "stream",
     "text": [
      "batch 0\n",
      "  minibatch loss: 2.30741786957\n",
      "  sample 1:\n",
      "    enc input           > [9 3 5 6 4 6 9 0]\n",
      "    dec train predicted > [1 1 1 1 1 1 1 1 0]\n",
      "  sample 2:\n",
      "    enc input           > [9 5 9 9 6 4 0 0]\n",
      "    dec train predicted > [9 9 1 1 1 9 1 0 0]\n",
      "  sample 3:\n",
      "    enc input           > [7 4 8 0 0 0 0 0]\n",
      "    dec train predicted > [4 4 4 0 0 0 0 0 0]\n",
      "()\n",
      "batch 1000\n",
      "  minibatch loss: 0.312291383743\n",
      "  sample 1:\n",
      "    enc input           > [3 4 2 4 7 7 0 0]\n",
      "    dec train predicted > [3 4 2 4 7 7 1 0 0]\n",
      "  sample 2:\n",
      "    enc input           > [8 9 6 9 6 3 4 0]\n",
      "    dec train predicted > [8 9 6 9 6 3 4 1 0]\n",
      "  sample 3:\n",
      "    enc input           > [2 9 5 7 0 0 0 0]\n",
      "    dec train predicted > [2 9 5 7 1 0 0 0 0]\n",
      "()\n",
      "batch 2000\n",
      "  minibatch loss: 0.0952701792121\n",
      "  sample 1:\n",
      "    enc input           > [5 7 6 3 9 0 0 0]\n",
      "    dec train predicted > [5 7 6 3 9 1 0 0 0]\n",
      "  sample 2:\n",
      "    enc input           > [3 8 9 6 8 3 8 4]\n",
      "    dec train predicted > [3 8 9 6 8 8 8 4 1]\n",
      "  sample 3:\n",
      "    enc input           > [5 9 4 9 7 0 0 0]\n",
      "    dec train predicted > [5 9 4 9 7 1 0 0 0]\n",
      "()\n",
      "batch 3000\n",
      "  minibatch loss: 0.0424456931651\n",
      "  sample 1:\n",
      "    enc input           > [6 8 2 6 8 0 0 0]\n",
      "    dec train predicted > [6 8 2 6 8 1 0 0 0]\n",
      "  sample 2:\n",
      "    enc input           > [4 9 3 0 0 0 0 0]\n",
      "    dec train predicted > [4 9 3 1 0 0 0 0 0]\n",
      "  sample 3:\n",
      "    enc input           > [5 5 2 2 3 2 3 4]\n",
      "    dec train predicted > [5 5 2 2 3 2 3 4 1]\n",
      "()\n"
     ]
    }
   ],
   "source": [
    "tf.reset_default_graph()\n",
    "tf.set_random_seed(1)\n",
    "\n",
    "with tf.Session() as session:\n",
    "\n",
    "    # with bidirectional encoder, decoder state size should be\n",
    "    # 2x encoder state size\n",
    "    model = Seq2SeqModel(encoder_cell=LSTMCell(10),\n",
    "                         decoder_cell=LSTMCell(20), \n",
    "                         vocab_size=10,\n",
    "                         embedding_size=10,\n",
    "                         attention=True,\n",
    "                         bidirectional=True,\n",
    "                         debug=False)\n",
    "\n",
    "    session.run(tf.global_variables_initializer())\n",
    "\n",
    "    train_on_copy_task(session, model,\n",
    "                       length_from=3, length_to=8,\n",
    "                       vocab_lower=2, vocab_upper=10,\n",
    "                       batch_size=100,\n",
    "                       max_batches=3000,\n",
    "                       batches_in_epoch=1000,\n",
    "                       verbose=True)"
   ]
  },
  {
   "cell_type": "code",
   "execution_count": null,
   "metadata": {
    "collapsed": true
   },
   "outputs": [],
   "source": []
  }
 ],
 "metadata": {
  "kernelspec": {
   "display_name": "Python 2",
   "language": "python",
   "name": "python2"
  },
  "language_info": {
   "codemirror_mode": {
    "name": "ipython",
    "version": 2
   },
   "file_extension": ".py",
   "mimetype": "text/x-python",
   "name": "python",
   "nbconvert_exporter": "python",
   "pygments_lexer": "ipython2",
   "version": "2.7.12"
  }
 },
 "nbformat": 4,
 "nbformat_minor": 1
}
